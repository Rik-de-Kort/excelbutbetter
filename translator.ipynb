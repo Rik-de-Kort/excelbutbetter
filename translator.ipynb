{
 "cells": [
  {
   "cell_type": "code",
   "execution_count": null,
   "id": "1fc45e10",
   "metadata": {},
   "outputs": [],
   "source": [
    "#default_exp translator"
   ]
  },
  {
   "cell_type": "markdown",
   "id": "c4c787e7",
   "metadata": {},
   "source": [
    "# Translator\n",
    "> Translate Excel formulas on sheets to Python code."
   ]
  },
  {
   "cell_type": "code",
   "execution_count": null,
   "id": "158b3623",
   "metadata": {},
   "outputs": [],
   "source": [
    "#export\n",
    "from ebb.parser import parse, parse_value, parse_formula\n",
    "import ebb.types as t\n",
    "from ebb.util import colname_to_num, num_to_colname\n",
    "from ebb.pyframes import PyFrame"
   ]
  },
  {
   "cell_type": "code",
   "execution_count": null,
   "id": "25a4c4d7",
   "metadata": {},
   "outputs": [],
   "source": [
    "%load_ext autoreload\n",
    "%autoreload 2"
   ]
  },
  {
   "cell_type": "markdown",
   "id": "13d1c90e",
   "metadata": {},
   "source": [
    "# Translation\n",
    "Evaluation is useful, but in the end the core seems to be translation.\n",
    "\n",
    "Goal of this part given a table-like grid of cells, write an equivalent Python program that can be run on the input data (cells without any dependencies) to generate the output (cells in the last column or cells without any dependencies)."
   ]
  },
  {
   "cell_type": "code",
   "execution_count": null,
   "id": "eb89a77b",
   "metadata": {},
   "outputs": [],
   "source": [
    "#export\n",
    "\n",
    "from collections.abc import Iterable\n",
    "\n",
    "def construct_tuple(x, y):\n",
    "    x = (x,) if isinstance(x, str) or not isinstance(x, Iterable) else tuple(x)\n",
    "    y = (y,) if isinstance(y, str) or not isinstance(y, Iterable) else tuple(y)\n",
    "    return x + y\n",
    "\n",
    "infix_translate_map = {\n",
    "    '\\\\+': lambda x, y: f'{x} + {y}',\n",
    "    '\\\\*': lambda x, y: f'{x} * {y}',\n",
    "    ',': construct_tuple\n",
    "\n",
    "}\n",
    "prefix_translate_map = {}\n",
    "postfix_translate_map = {}\n",
    "\n",
    "def choose(index, *values):\n",
    "    print(index, values)\n",
    "    if 1 <= index <= len(values):\n",
    "        return values[index-1]\n",
    "    else:\n",
    "        raise ValueError\n",
    "        \n",
    "function_translate_map = {\n",
    "    'CHOOSE': choose,\n",
    "}\n",
    "\n",
    "# We save the variables in a tuple because it's convenient to use ordering\n",
    "# to compare formulas. If they have the same AST structure we can just check\n",
    "# them for consistency one by one.\n",
    "def translate(tree, variables=tuple()):  # Todo(Rik): str might translate to ref.\n",
    "    if isinstance(tree, (int, float, bool, str)):\n",
    "        return tree, variables\n",
    "    elif isinstance(tree, t.InfixOp) and tree.op == ':':\n",
    "        # Todo(Rik): handle ranges in formulas\n",
    "        raise NotImplemented\n",
    "    elif isinstance(tree, t.InfixOp):\n",
    "        t_left, var_left = translate(tree.left, variables)\n",
    "        t_right, var_right = translate(tree.right, variables)\n",
    "        return infix_translate_map[tree.op](t_left, t_right), var_left + var_right\n",
    "    elif isinstance(tree, t.PrefixOp):\n",
    "        t_arg, var_arg = translate(tree.arg, variables)\n",
    "        return prefix_translate_map[tree.op](t_arg), var_arg\n",
    "    elif isinstance(tree, t.PostfixOp):\n",
    "        t_arg, var_arg = translate(tree.arg, variables)\n",
    "        return postfix_translate_map[tree.op](t_arg), var_arg\n",
    "    elif isinstance(tree, t.Function):\n",
    "        t_args, var_args = translate(tree.args, variables)\n",
    "        # Gymnastics to handle one-argument functions\n",
    "        # Todo(Rik): zero-argument functions?\n",
    "        if not isinstance(t_args, tuple): t_args = (t_args,)\n",
    "        return function_translate_map[tree.name](*t_args), var_args\n",
    "    elif isinstance(tree, t.Ref):  # Create and return variable name\n",
    "        return tree.to_string(), variables + (tree,)"
   ]
  },
  {
   "cell_type": "code",
   "execution_count": null,
   "id": "6bb8bbd6",
   "metadata": {},
   "outputs": [
    {
     "name": "stdout",
     "output_type": "stream",
     "text": [
      "1 (1, 2, 3)\n"
     ]
    },
    {
     "data": {
      "text/plain": [
       "(1, ())"
      ]
     },
     "execution_count": null,
     "metadata": {},
     "output_type": "execute_result"
    }
   ],
   "source": [
    "translate(parse('= CHOOSE(1, 1, 2, 3)'))"
   ]
  },
  {
   "cell_type": "markdown",
   "id": "ad618395",
   "metadata": {},
   "source": [
    "Next, chaining functions. One cell = one line of code, I suppose. :)"
   ]
  },
  {
   "cell_type": "code",
   "execution_count": null,
   "id": "8f32a7e1",
   "metadata": {},
   "outputs": [],
   "source": [
    "def print_args(func):\n",
    "    def wrapped(*a, **kw):\n",
    "        try:\n",
    "            return func(*a, **kw)\n",
    "        except:\n",
    "            print(a, kw)\n",
    "            raise\n",
    "    return wrapped"
   ]
  },
  {
   "cell_type": "code",
   "execution_count": null,
   "id": "6a850241",
   "metadata": {},
   "outputs": [
    {
     "name": "stdout",
     "output_type": "stream",
     "text": [
      "D2 = A1 + D1\n",
      "C1 = A1 + D2\n"
     ]
    }
   ],
   "source": [
    "@print_args\n",
    "def cell_to_lines(ref, sheet, depth=None, stop_at=None):\n",
    "    stop_at = set() if stop_at is None else stop_at\n",
    "    if depth == 0: return [], {ref}, {ref}\n",
    "    depth = depth-1 if depth is not None else None\n",
    "    \n",
    "    code, variables = translate(parse(sheet[ref.row, ref.column]))\n",
    "    if not variables:\n",
    "        return [], {ref}, {ref}\n",
    "    result = []\n",
    "    leaves = set()\n",
    "    for var in variables:\n",
    "        if var in stop_at: continue\n",
    "        this_code, stop_at_here, leaves_here = cell_to_lines(var, sheet, depth, stop_at)\n",
    "        result += this_code\n",
    "        stop_at |= stop_at_here\n",
    "        leaves |= leaves_here\n",
    "        \n",
    "    result += [f'{ref.to_string()} = {code}']\n",
    "    return result, stop_at | {ref}, leaves\n",
    "\n",
    "sheet = t.PyFrame.from_list_of_rows([\n",
    "    ['3', '4', '=A1+D2', '0'],\n",
    "    ['4', '5', '=A2+D3', '=A1+D1'],\n",
    "], ['A', 'B', 'C', 'D'])\n",
    "\n",
    "lines, cells, leaves = cell_to_lines(t.Ref(row=0, column='C'), sheet, depth=2)\n",
    "print('\\n'.join(lines))\n",
    "# print(get_dependency_tree(t.Ref(row=0, column='A'), sheet))"
   ]
  },
  {
   "cell_type": "code",
   "execution_count": null,
   "id": "8d802782",
   "metadata": {},
   "outputs": [],
   "source": [
    "#export\n",
    "def cell_to_function(name, ref, sheet, depth=None, stop_at=None):\n",
    "    lines, _, leaves = cell_to_lines(ref, sheet, depth, stop_at)\n",
    "    return '\\n'.join([\n",
    "        f'def {name}({\", \".join(var.to_string() for var in leaves)}):'\n",
    "    ] + [\n",
    "        f'    {line}' for line in lines\n",
    "    ] + [\n",
    "        f'    return {ref.to_string()}'\n",
    "    ]), leaves"
   ]
  },
  {
   "cell_type": "code",
   "execution_count": null,
   "id": "33d5a700",
   "metadata": {},
   "outputs": [
    {
     "name": "stdout",
     "output_type": "stream",
     "text": [
      "def foo(C1):\n",
      "    return C1\n"
     ]
    }
   ],
   "source": [
    "print(cell_to_function('foo', t.Ref(row=0, column='C'), sheet)[0])"
   ]
  },
  {
   "cell_type": "markdown",
   "id": "d20c9af9",
   "metadata": {},
   "source": [
    "In this case, we would expect some kind of \"start-up\" rows, and then an eventually stable set of cell formulas. Especially gnarly when there are two regimes."
   ]
  },
  {
   "cell_type": "markdown",
   "id": "d59e1e9d",
   "metadata": {},
   "source": [
    "# Making a small demo\n",
    "Leverage ipydatagrid (from Bloomberg) to show a small demo with a sheet on the left and code on the right. Next up probably for loops. :)\n",
    "\n",
    "Also could think about a backwards connection, i.e. editing the python code and updating the Excel sheet as necessary. What to do when putting a new line though... Something to think about.\n",
    "\n",
    "For now though, I think continuing the row-interpretation work and making it go in the demo might be good!"
   ]
  },
  {
   "cell_type": "code",
   "execution_count": null,
   "id": "28376d14",
   "metadata": {},
   "outputs": [],
   "source": [
    "sheet = t.PyFrame.from_list_of_rows([\n",
    "    [3, 4, 0, '=A1+B1', '=C1*D1'],\n",
    "    [4, 5, 3, '=A2+B2', '=C2*D2'],\n",
    "    [7, 8, 2, '=A3+B3', '=E1*C3*D3'],\n",
    "    [7, 8, 2, '=A4+B4', '=E2*C4*D4'],\n",
    "], ['A', 'B', 'C', 'D', 'E'])\n",
    "\n",
    "for col in sheet.columns:\n",
    "    sheet.col[col] = [str(value) for value in sheet.col[col]]"
   ]
  },
  {
   "cell_type": "code",
   "execution_count": null,
   "id": "2cb14162",
   "metadata": {},
   "outputs": [
    {
     "data": {
      "application/vnd.jupyter.widget-view+json": {
       "model_id": "527a1cbedcc34af5954ae1503fcefa68",
       "version_major": 2,
       "version_minor": 0
      },
      "text/plain": [
       "HBox(children=(VBox(children=(DataGrid(auto_fit_params={'area': 'all', 'padding': 30, 'numCols': None}, base_c…"
      ]
     },
     "metadata": {},
     "output_type": "display_data"
    }
   ],
   "source": [
    "from ipydatagrid import DataGrid\n",
    "import ipywidgets as widgets\n",
    "import pandas as pd\n",
    "\n",
    "datagrid = DataGrid(pd.DataFrame(sheet), editable=True, base_column_size=128, base_row_size=30)\n",
    "#                     layout={'height': '200px'})#, 'width': '800px'})\n",
    "code_output = widgets.Output(layout={'border': '1px solid black'})\n",
    "depth_widget = widgets.IntSlider(value=1, min=0, max=5)\n",
    "\n",
    "def update_df(cell):\n",
    "    sheet[cell['row']][cell['column']] = cell['value']\n",
    "    with code_output:\n",
    "        code_output.clear_output()        \n",
    "        update_code(ref, sheet, depth_widget.value)\n",
    "    \n",
    "def update_code(ref, sheet, depth):\n",
    "    code, variables = cell_to_function(f'calculate_{ref.to_string()}', ref, sheet, depth=depth)\n",
    "    print(code)\n",
    "    exec(code)\n",
    "        \n",
    "\n",
    "ref = t.Ref(row=3, column='E')\n",
    "datagrid.on_cell_change(update_df)\n",
    "with code_output:\n",
    "    update_code(ref, sheet, depth_widget.value)\n",
    "    \n",
    "widgets.HBox(children=[widgets.VBox(children=[datagrid, depth_widget]), code_output])"
   ]
  },
  {
   "cell_type": "code",
   "execution_count": null,
   "id": "d2686b91",
   "metadata": {},
   "outputs": [],
   "source": [
    "widgets"
   ]
  },
  {
   "cell_type": "code",
   "execution_count": null,
   "id": "0c1f1dce",
   "metadata": {},
   "outputs": [
    {
     "name": "stdout",
     "output_type": "stream",
     "text": [
      "Converted evaluator.ipynb.\n",
      "Converted parser.ipynb.\n",
      "Converted prototype.ipynb.\n",
      "Converted translator.ipynb.\n",
      "Converted types.ipynb.\n",
      "Converted util.ipynb.\n"
     ]
    }
   ],
   "source": [
    "from nbdev.export import notebook2script; notebook2script()"
   ]
  },
  {
   "cell_type": "code",
   "execution_count": null,
   "id": "0d286223",
   "metadata": {},
   "outputs": [],
   "source": []
  }
 ],
 "metadata": {
  "kernelspec": {
   "display_name": "Python 3 (ipykernel)",
   "language": "python",
   "name": "python3"
  }
 },
 "nbformat": 4,
 "nbformat_minor": 5
}
