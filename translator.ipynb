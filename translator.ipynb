{
 "cells": [
  {
   "cell_type": "code",
   "execution_count": null,
   "id": "1fc45e10",
   "metadata": {},
   "outputs": [],
   "source": [
    "#default_exp translator"
   ]
  },
  {
   "cell_type": "markdown",
   "id": "c4c787e7",
   "metadata": {},
   "source": [
    "# Translator\n",
    "> Translate Excel formulas on sheets to Python code."
   ]
  },
  {
   "cell_type": "code",
   "execution_count": null,
   "id": "158b3623",
   "metadata": {},
   "outputs": [],
   "source": [
    "#export\n",
    "from ebb.parser import parse, parse_value, Ref, parse_formula, InfixOp, PrefixOp, PostfixOp, Function\n",
    "from ebb.util import colname_to_num, num_to_colname"
   ]
  },
  {
   "cell_type": "code",
   "execution_count": null,
   "id": "25a4c4d7",
   "metadata": {},
   "outputs": [
    {
     "name": "stdout",
     "output_type": "stream",
     "text": [
      "The autoreload extension is already loaded. To reload it, use:\n",
      "  %reload_ext autoreload\n"
     ]
    }
   ],
   "source": [
    "%load_ext autoreload\n",
    "%autoreload 2"
   ]
  },
  {
   "cell_type": "markdown",
   "id": "13d1c90e",
   "metadata": {},
   "source": [
    "# Translation\n",
    "Evaluation is useful, but in the end the core seems to be translation.\n",
    "\n",
    "Goal of this part given a table-like grid of cells, write an equivalent Python program that can be run on the input data (cells without any dependencies) to generate the output (cells in the last column or cells without any dependencies)."
   ]
  },
  {
   "cell_type": "code",
   "execution_count": null,
   "id": "eb89a77b",
   "metadata": {},
   "outputs": [],
   "source": [
    "#export\n",
    "\n",
    "from collections.abc import Iterable\n",
    "\n",
    "def construct_tuple(x, y):\n",
    "    x = (x,) if isinstance(x, str) or not isinstance(x, Iterable) else tuple(x)\n",
    "    y = (y,) if isinstance(y, str) or not isinstance(y, Iterable) else tuple(y)\n",
    "    return x + y\n",
    "\n",
    "infix_translate_map = {\n",
    "    '\\\\+': lambda x, y: f'{x} + {y}',\n",
    "    '\\\\*': lambda x, y: f'{x} * {y}',\n",
    "    ',': construct_tuple\n",
    "\n",
    "}\n",
    "prefix_translate_map = {}\n",
    "postfix_translate_map = {}\n",
    "\n",
    "def choose(index, *values):\n",
    "    print(index, values)\n",
    "    if 1 <= index <= len(values):\n",
    "        return values[index-1]\n",
    "    else:\n",
    "        raise ValueError\n",
    "        \n",
    "function_translate_map = {\n",
    "    'CHOOSE': choose,\n",
    "}\n",
    "\n",
    "# We save the variables in a tuple because it's convenient to use ordering\n",
    "# to compare formulas. If they have the same AST structure we can just check\n",
    "# them for consistency one by one.\n",
    "def translate(tree, variables=tuple()):  # Todo(Rik): str might translate to ref.\n",
    "    if isinstance(tree, (int, float, bool, str)):\n",
    "        return tree, variables\n",
    "    elif isinstance(tree, InfixOp) and tree.op == ':':\n",
    "        # Todo(Rik): handle ranges in formulas\n",
    "        raise NotImplemented\n",
    "    elif isinstance(tree, InfixOp):\n",
    "        t_left, var_left = translate(tree.left, variables)\n",
    "        t_right, var_right = translate(tree.right, variables)\n",
    "        return infix_translate_map[tree.op](t_left, t_right), var_left + var_right\n",
    "    elif isinstance(tree, PrefixOp):\n",
    "        t_arg, var_arg = translate(tree.arg, variables)\n",
    "        return prefix_translate_map[tree.op](t_arg), var_arg\n",
    "    elif isinstance(tree, PostfixOp):\n",
    "        t_arg, var_arg = translate(tree.arg, variables)\n",
    "        return postfix_translate_map[tree.op](t_arg), var_arg\n",
    "    elif isinstance(tree, Function):\n",
    "        t_args, var_args = translate(tree.args, variables)\n",
    "        # Gymnastics to handle one-argument functions\n",
    "        # Todo(Rik): zero-argument functions?\n",
    "        if not isinstance(t_args, tuple): t_args = (t_args,)\n",
    "        return function_translate_map[tree.name](*t_args), var_args\n",
    "    elif isinstance(tree, Ref):  # Create and return variable name\n",
    "        return tree.to_string(), variables + (tree,)"
   ]
  },
  {
   "cell_type": "code",
   "execution_count": null,
   "id": "6bb8bbd6",
   "metadata": {},
   "outputs": [
    {
     "name": "stdout",
     "output_type": "stream",
     "text": [
      "1 (1, 2, 3)\n"
     ]
    },
    {
     "data": {
      "text/plain": [
       "(1, ())"
      ]
     },
     "execution_count": null,
     "metadata": {},
     "output_type": "execute_result"
    }
   ],
   "source": [
    "translate(parse('= CHOOSE(1, 1, 2, 3)'))"
   ]
  },
  {
   "cell_type": "markdown",
   "id": "e44981da",
   "metadata": {},
   "source": [
    "That covers translating a single cell. Next example is detecting when output cells are similar. In the below example, it should recognize that the first and second rows are the same function."
   ]
  },
  {
   "cell_type": "code",
   "execution_count": null,
   "id": "f1e88e02",
   "metadata": {},
   "outputs": [],
   "source": [
    "#export\n",
    "def equivalent(tree, other):\n",
    "    if type(tree) != type(other): return False\n",
    "    if isinstance(tree, (int, float, bool, str)):  # Todo(Rik): maybe str parses to Ref?\n",
    "        return tree == other\n",
    "    elif isinstance(tree, InfixOp) and tree.op == ':':\n",
    "        # Todo(Rik): handle ranges in formulas\n",
    "        raise NotImplemented\n",
    "    elif isinstance(tree, InfixOp):\n",
    "        return (tree.op == other.op\n",
    "                and equivalent(tree.left, other.left)\n",
    "                and equivalent(tree.right, other.right))\n",
    "    elif isinstance(tree, PrefixOp) or isinstance(tree, PostfixOp):\n",
    "        return (tree.op == other.op\n",
    "                and equivalent(tree.arg, other.arg))\n",
    "    elif isinstance(tree, Function):  # Todo(Rik): consider turning ops into function calls?\n",
    "        return (tree.name == other.name\n",
    "               and equivalent(tree.args, other.args))\n",
    "    elif isinstance(tree, Ref):  # Create and return variable name\n",
    "        return True"
   ]
  },
  {
   "cell_type": "markdown",
   "id": "023293bf",
   "metadata": {},
   "source": [
    "You can still bamboozle this algorithm by putting `=A1+B1` and then `=C14+D37`. However, since the ordering of variables in translate is deterministic (and we used a tuple!), we can then check for equivalence of variables."
   ]
  },
  {
   "cell_type": "code",
   "execution_count": null,
   "id": "a15ac6c3",
   "metadata": {},
   "outputs": [],
   "source": [
    "assert equivalent(parse('=A1+B1'), parse('=A2+B2'))"
   ]
  },
  {
   "cell_type": "code",
   "execution_count": null,
   "id": "4d881a1e",
   "metadata": {},
   "outputs": [],
   "source": [
    "#export\n",
    "def consistent(these_vars, other_vars):\n",
    "    \"\"\"Checks if the tuples of variables are \"transposed\" across rows, returning the delta if so.\"\"\"\n",
    "    # Todo(Rik): deal with fixed rows/columns\n",
    "    # Yeahhh wouldn't I like an Option<i32> here...\n",
    "    if len(these_vars) != len(other_vars): return False\n",
    "    if any(v.column != w.column for v, w in zip(these_vars, other_vars)): return False\n",
    "    if len(set(v.row - w.row for v, w in zip(these_vars, other_vars))) != 1: return False\n",
    "    return these_vars[0].row - other_vars[0].row"
   ]
  },
  {
   "cell_type": "code",
   "execution_count": null,
   "id": "b05f47fd",
   "metadata": {},
   "outputs": [],
   "source": [
    "tree, these_vars = translate(parse('=A1+B1'))\n",
    "other, other_vars = translate(parse('=A2+B2'))\n",
    "assert consistent(these_vars, other_vars) == -1\n",
    "\n",
    "tree, these_vars = translate(parse('=A1+B1'))\n",
    "other, other_vars = translate(parse('=A5+B5'))\n",
    "assert consistent(these_vars, other_vars) == -4\n",
    "\n",
    "tree, these_vars = translate(parse('=A3+B3'))\n",
    "other, other_vars = translate(parse('=A1+B1'))\n",
    "assert consistent(these_vars, other_vars) == 2\n",
    "\n",
    "tree, these_vars = translate(parse('=A1+B1'))\n",
    "other, other_vars = translate(parse('=A2+C3'))\n",
    "assert not consistent(these_vars, other_vars)\n",
    "\n",
    "tree, these_vars = translate(parse('=A1*B1'))\n",
    "other, other_vars = translate(parse('=A2+B2'))\n",
    "assert consistent(these_vars, other_vars)"
   ]
  },
  {
   "cell_type": "code",
   "execution_count": null,
   "id": "3942cc40",
   "metadata": {},
   "outputs": [],
   "source": [
    "def is_copied_across(column):\n",
    "    head, *column = column\n",
    "    head_ast = parse(head)\n",
    "    head_code, head_vars = translate(head_ast)\n",
    "    for i, item in enumerate(column):\n",
    "        item_ast = parse(item)\n",
    "        if not equivalent(head_ast, item_ast): return False\n",
    "        _, item_vars = translate(item_ast)\n",
    "        if not consistent(item_vars, head_vars) == i+1: return False\n",
    "    return True"
   ]
  },
  {
   "cell_type": "code",
   "execution_count": null,
   "id": "81731960",
   "metadata": {},
   "outputs": [],
   "source": [
    "assert is_copied_across(['=A1+B1', '=A2+B2'])\n",
    "assert not is_copied_across(['=A1+B1', '=A3+B3'])\n",
    "assert not is_copied_across(['=A1+B1', '=A2*B2'])\n",
    "assert is_copied_across(['=A1+B1', '=A2+B2', '=A3+B3'])\n",
    "assert not is_copied_across(['=A1+B1', '=A2+C3'])"
   ]
  },
  {
   "cell_type": "code",
   "execution_count": null,
   "id": "6cf28239",
   "metadata": {},
   "outputs": [
    {
     "name": "stdout",
     "output_type": "stream",
     "text": [
      "def adder(A1, B1):\n",
      "  return A1 + B1\n"
     ]
    }
   ],
   "source": [
    "def write_function(name, code, variables):\n",
    "    variables = ', '.join(v.to_string() for v in variables)\n",
    "    return '\\n'.join([\n",
    "        f'def {name}({variables}):',\n",
    "        f'  return {code}'\n",
    "    ])\n",
    "\n",
    "row = [3, 4, '=A1+B1']\n",
    "code, these_vars = translate(parse(row[2]))\n",
    "print(write_function('adder', code, these_vars))"
   ]
  },
  {
   "cell_type": "code",
   "execution_count": null,
   "id": "76de0a09",
   "metadata": {},
   "outputs": [],
   "source": [
    "def column_to_code(colname, sheet):\n",
    "    colnum = colname_to_num(colname)\n",
    "\n",
    "    function_name = f'calculate_{colname}'\n",
    "\n",
    "    column_asts = [parse(item) for item in [row[colnum] for row in sheet]]\n",
    "    column_codes, column_vars = zip(*[translate(ast) for ast in column_asts])\n",
    "\n",
    "    head_ast, *tail_asts = column_asts\n",
    "    head_code, *tail_codes = column_codes\n",
    "    head_vars, *tail_vars = column_vars\n",
    "\n",
    "    for i, (other_ast, other_vars) in enumerate(zip(tail_asts, tail_vars)):\n",
    "        if not equivalent(head_ast, other_ast) or not consistent(other_vars, head_vars) == (i+1):\n",
    "            raise NotImplementedError('Inconsistent column formula in row {i}')\n",
    "\n",
    "    input_data = [[sheet[r.row][r.column] for r in variables] for variables in column_vars]\n",
    "    variable_text = ', '.join(var.to_string() for var in head_vars)\n",
    "\n",
    "    function_body = write_function(function_name, head_code, head_vars)\n",
    "    exec(function_body)\n",
    "    function = eval(function_name)\n",
    "    function_result = [function(*row) for row in input_data]\n",
    "    result = '\\n'.join([\n",
    "        function_body,\n",
    "        '',\n",
    "        f'{colname} = [{function_name}({variable_text}) for {variable_text} in {input_data}]',\n",
    "        f'\\nResult: {function_result}'\n",
    "    ])\n",
    "    return result"
   ]
  },
  {
   "cell_type": "code",
   "execution_count": null,
   "id": "57ca8f28",
   "metadata": {},
   "outputs": [
    {
     "name": "stdout",
     "output_type": "stream",
     "text": [
      "def calculate_D(A1, B1, C1):\n",
      "  return A1 + B1 * C1\n",
      "\n",
      "D = [calculate_D(A1, B1, C1) for A1, B1, C1 in [[3, 4, 7], [4, 5, 8]]]\n",
      "\n",
      "Result: [31, 44]\n"
     ]
    }
   ],
   "source": [
    "sheet = [\n",
    "    [3, 4, 7, '=A1+B1*C1'],\n",
    "    [4, 5, 8, '=A2+B2*C2']\n",
    "]\n",
    "print(column_to_code('D', sheet))"
   ]
  },
  {
   "cell_type": "markdown",
   "id": "ad618395",
   "metadata": {},
   "source": [
    "Next, chaining functions. One cell = one line of code, I suppose. :)"
   ]
  },
  {
   "cell_type": "code",
   "execution_count": null,
   "id": "052e4657",
   "metadata": {},
   "outputs": [],
   "source": [
    "#export\n",
    "from collections import deque\n",
    "import re\n",
    "\n",
    "def is_value(cell):\n",
    "    return not isinstance(cell, str) or not cell.startswith('=')\n",
    "\n",
    "\n",
    "def cell_to_code(ref, sheet, header):\n",
    "    code, variables = translate(parse(sheet[ref.row][ref.column]))\n",
    "    code = deque([code])\n",
    "    to_map = [r for r in variables if not is_value(sheet[r.row][r.column])]\n",
    "    \n",
    "    # Todo(Rik): circular reference protection. Requires maintaining a tree,\n",
    "    # rather than just a flat list. I.e. track the chain of things that\n",
    "    # led us to calculating this cell and see if it includes something\n",
    "    # this cell refers to.\n",
    "    done = {ref}\n",
    "    \n",
    "    variables = deque([r for r in variables if is_value(sheet[r.row][r.column])])\n",
    "    while to_map:\n",
    "        this_ref = to_map.pop()        \n",
    "        if this_ref in done or this_ref in variables: continue\n",
    "\n",
    "        this_code, these_vars = translate(parse(sheet[this_ref.row][this_ref.column]))\n",
    "\n",
    "        variables.extend([r for r in these_vars if is_value(sheet[r.row][r.column]) and r not in variables])\n",
    "        to_map.extend([r for r in these_vars if not is_value(sheet[r.row][r.column]) and r not in to_map])\n",
    "\n",
    "        code.appendleft(f'{this_ref.to_string()} = {this_code}')\n",
    "        done.add(this_ref)\n",
    "        \n",
    "    def translate_variables(line, header):\n",
    "        for i, name in enumerate(header):\n",
    "            line = re.sub(rf'{num_to_colname(i)}([0-9]+)', rf'{name}\\1', line)\n",
    "        return line\n",
    "    code = [translate_variables(line, header) for line in code]\n",
    "    return code, variables"
   ]
  },
  {
   "cell_type": "code",
   "execution_count": null,
   "id": "c6a701ca",
   "metadata": {},
   "outputs": [
    {
     "data": {
      "text/plain": [
       "(['D2 = A1 + D1', 'A1 + D2'],\n",
       " deque([Ref(row=0, column=0, fixed_row=False, fixed_column=False),\n",
       "        Ref(row=0, column=3, fixed_row=False, fixed_column=False)]))"
      ]
     },
     "execution_count": null,
     "metadata": {},
     "output_type": "execute_result"
    }
   ],
   "source": [
    "sheet = [\n",
    "    ['3', '4', '=A1+D2', '0'],\n",
    "    ['4', '5', '=A2+D3', '=A1+D1'],\n",
    "]\n",
    "\n",
    "code, variables = cell_to_code(Ref(row=0, column=2), sheet, ['A', 'B', 'C', 'D'])\n",
    "code, variables"
   ]
  },
  {
   "cell_type": "code",
   "execution_count": null,
   "id": "7731f3b9",
   "metadata": {},
   "outputs": [],
   "source": [
    "#export\n",
    "def write_multiline_function(name, code, variables):\n",
    "    variables = ', '.join(variables)\n",
    "    *lines, last = code\n",
    "    return '\\n'.join([\n",
    "        f'def {name}({variables}):'\n",
    "    ] + [f'    {line}' for line in lines] + [\n",
    "        f'    return {last}'\n",
    "    ])"
   ]
  },
  {
   "cell_type": "code",
   "execution_count": null,
   "id": "c50ebee8",
   "metadata": {},
   "outputs": [
    {
     "name": "stdout",
     "output_type": "stream",
     "text": [
      "def foo(A1, D1):\n",
      "    D2 = A1 + D1\n",
      "    return A1 + D2\n"
     ]
    }
   ],
   "source": [
    "print(write_multiline_function('foo', code, [v.to_string() for v in variables]))"
   ]
  },
  {
   "cell_type": "markdown",
   "id": "d20c9af9",
   "metadata": {},
   "source": [
    "In this case, we would expect some kind of \"start-up\" rows, and then an eventually stable set of cell formulas. Especially gnarly when there are two regimes."
   ]
  },
  {
   "cell_type": "code",
   "execution_count": null,
   "id": "7d1d15a0",
   "metadata": {},
   "outputs": [
    {
     "data": {
      "text/plain": [
       "{2}"
      ]
     },
     "execution_count": null,
     "metadata": {},
     "output_type": "execute_result"
    }
   ],
   "source": [
    "#export\n",
    "def find_transitions(column):\n",
    "    transitions = set()\n",
    "    previous_ast, *asts = [parse(cell) for cell in column]\n",
    "    for i, ast in enumerate(asts):\n",
    "        if not equivalent(ast, previous_ast):\n",
    "            previous_ast = ast\n",
    "            transitions.add(i+1)\n",
    "    return transitions\n",
    "\n",
    "column = ['=A1+B1', '=A2+B2', '=A3*B3', '=A4*B4']\n",
    "find_transitions(column) "
   ]
  },
  {
   "cell_type": "markdown",
   "id": "8433e33e",
   "metadata": {},
   "source": [
    "That routine will find cells that are copied across. Now we can extract the loop body (as separate from initialization)."
   ]
  },
  {
   "cell_type": "code",
   "execution_count": null,
   "id": "ccb15edd",
   "metadata": {},
   "outputs": [
    {
     "data": {
      "text/plain": [
       "([(0, (3, 4, 7, 7)), (1, (4, 5, 8, 8)), (2, (0, 3, 2, 2))],\n",
       " [(3, ('=A1+B1', '=A2+B2', '=A3+B3', '=A4+B4')),\n",
       "  (4, ('=C1*D1', '=C2*D2', '=E1*C3*D3', '=E2*C4*D4'))])"
      ]
     },
     "execution_count": null,
     "metadata": {},
     "output_type": "execute_result"
    }
   ],
   "source": [
    "sheet = [\n",
    "    [3, 4, 0, '=A1+B1', '=C1*D1'],\n",
    "    [4, 5, 3, '=A2+B2', '=C2*D2'],\n",
    "    [7, 8, 2, '=A3+B3', '=E1*C3*D3'],\n",
    "    [7, 8, 2, '=A4+B4', '=E2*C4*D4'],\n",
    "]\n",
    "\n",
    "value_cols = [(i, col) for i, col in enumerate(zip(*sheet)) if all(is_value(cell) for cell in col)]\n",
    "calc_cols = [(i, col) for i, col in enumerate(zip(*sheet)) if not all(is_value(cell) for cell in col)]\n",
    "value_cols, calc_cols"
   ]
  },
  {
   "cell_type": "code",
   "execution_count": null,
   "id": "d223ff93",
   "metadata": {},
   "outputs": [
    {
     "data": {
      "text/plain": [
       "({1, 2, 3, 4, 5, 6}, {3: 4, 4: 5})"
      ]
     },
     "execution_count": null,
     "metadata": {},
     "output_type": "execute_result"
    }
   ],
   "source": [
    "#export\n",
    "import operator as op\n",
    "from functools import reduce\n",
    "\n",
    "def join_sets(sets):\n",
    "    return reduce(op.ior, sets, set())\n",
    "\n",
    "def join_dicts(dicts):\n",
    "    return reduce(lambda d, e: {**d, **e}, dicts, {})\n",
    "\n",
    "join_sets([{1, 2, 3}, {4, 5, 6}]), join_dicts([{3: 4}, {4: 5}])"
   ]
  },
  {
   "cell_type": "markdown",
   "id": "adf392b0",
   "metadata": {},
   "source": [
    "There's an implicit ordering here, or \"compatibleness\". Some kind of intersection operation where column 3 has no transition, but column 4 has one at index 2, so therefore we see a transition at index 2.\n",
    "\n",
    "In case we had something like `[[0, 1], [2, 3]]`, `[[0], [1, 2, 3]]`, we would have gotten transitions at 1 and 2. Overlapping transforms are not interesting."
   ]
  },
  {
   "cell_type": "code",
   "execution_count": null,
   "id": "e8db1ba1",
   "metadata": {},
   "outputs": [
    {
     "name": "stdout",
     "output_type": "stream",
     "text": [
      "[['shares_outstanding', 'ebitda', 'price', 'stock_price', 'to_buy'],\n",
      " [3, 4, 0, '=A1+B1', '=C1*D1'],\n",
      " [4, 5, 3, '=A2+B2', '=C2*D2'],\n",
      " [7, 8, 2, '=A3+B3', '=E1*C3*D3'],\n",
      " [7, 8, 2, '=A4+B4', '=E2*C4*D4']]\n",
      "output = []\n",
      "\n",
      "def calculate_stock_price1(shares_outstanding0, ebitda0):\n",
      "    return shares_outstanding1 + ebitda1\n",
      "\n",
      "def calculate_to_buy1(price0, shares_outstanding0, ebitda0):\n",
      "    stock_price1 = shares_outstanding1 + ebitda1\n",
      "    return price1 * stock_price1\n",
      "\n",
      "for price0, shares_outstanding0, ebitda0 in [[0, 3, 4], [3, 4, 5]]:\n",
      "    D1 = calculate_stock_price1(shares_outstanding0, ebitda0)\n",
      "    E1 = calculate_to_buy1(price0, shares_outstanding0, ebitda0)\n",
      "    output.append([A1, B1, C1, D1, E1])\n",
      "\n",
      "def calculate_stock_price3(shares_outstanding2, ebitda2):\n",
      "    return shares_outstanding3 + ebitda3\n",
      "\n",
      "def calculate_to_buy3(price2, shares_outstanding2, ebitda2, price0, shares_outstanding0, ebitda0):\n",
      "    stock_price1 = shares_outstanding1 + ebitda1\n",
      "    to_buy1 = price1 * stock_price1\n",
      "    stock_price3 = shares_outstanding3 + ebitda3\n",
      "    return to_buy1 * price3 * stock_price3\n",
      "\n",
      "for price2, shares_outstanding2, ebitda2 in [[2, 7, 8], [2, 7, 8]]:\n",
      "    price0 = output[-2][2]\n",
      "    shares_outstanding0 = output[-2][0]\n",
      "    ebitda0 = output[-2][1]\n",
      "    D3 = calculate_stock_price3(shares_outstanding2, ebitda2)\n",
      "    E3 = calculate_to_buy3(price2, shares_outstanding2, ebitda2, price0, shares_outstanding0, ebitda0)\n",
      "    output.append([A3, B3, C3, D3, E3])\n"
     ]
    }
   ],
   "source": [
    "def sheet_to_code(sheet, has_header=True):\n",
    "    if has_header:\n",
    "        header, *sheet = sheet\n",
    "    else:\n",
    "        header = [num_to_col(i) for i, _ in enumerate(sheet[0])]\n",
    "        \n",
    "    value_cols = [(i, col) for i, col in enumerate(zip(*sheet)) if all(is_value(cell) for cell in col)]\n",
    "    calc_cols = [(i, col) for i, col in enumerate(zip(*sheet)) if not all(is_value(cell) for cell in col)]\n",
    "    transitions = list(join_sets([find_transitions(col) for _, col in calc_cols]))\n",
    "    block_ranges = list(zip([0]+transitions, transitions+[len(sheet)]))\n",
    "    blocks = [sheet[start:end] for start, end in block_ranges]\n",
    "\n",
    "    result = ['output = []']\n",
    "    for start, end in block_ranges:\n",
    "        to_calc = []\n",
    "        for colnum, _ in calc_cols:\n",
    "            colname = num_to_colname(colnum)\n",
    "            function_name = f'calculate_{header[colnum]}{start+1}'\n",
    "            code, variables = cell_to_code(Ref(row=start, column=colnum), sheet, header)\n",
    "            named_vars = [f'{header[v.column]}{v.row}' for v in variables]\n",
    "\n",
    "            to_calc.append((colname, function_name, named_vars))\n",
    "            result.append('')\n",
    "            result.append(write_multiline_function(function_name, code, named_vars))\n",
    "\n",
    "        # Create loop body\n",
    "        loop_body = []\n",
    "        # Assign non-local variables, if any\n",
    "        loop_body.extend([\n",
    "            f'{header[v.column]}{v.row} = output[-{start-v.row}][{v.column}]'\n",
    "            for v in variables if v.row != start\n",
    "        ])\n",
    "\n",
    "        # Calculate results which determined we needed to calculate\n",
    "        for colname, function_name, named_vars in to_calc:\n",
    "            call_variables = ', '.join(named_vars)\n",
    "            loop_body.append(f'{colname}{start+1} = {function_name}({call_variables})')\n",
    "            \n",
    "        # Add to output\n",
    "        sorted_columns = ', '.join([f'{num_to_colname(i)}{start+1}' for i in range(len(sheet[start]))])\n",
    "        loop_body.append(f'output.append([{sorted_columns}])')\n",
    "            \n",
    "        # Put loop body in results\n",
    "        loop_vars = ', '.join(f'{header[v.column]}{v.row}' for v in variables if v.row == start)\n",
    "        loop_data = [[row[v.column] for v in variables if v.row==start] for row in sheet[start:end]]\n",
    "        \n",
    "        result.extend(['', f'for {loop_vars} in {loop_data}:'])\n",
    "        result.extend(['    '+stmt for stmt in loop_body])\n",
    "    return '\\n'.join(result)\n",
    "\n",
    "sheet = [\n",
    "    ['shares_outstanding', 'ebitda', 'price', 'stock_price', 'to_buy'],\n",
    "    [3, 4, 0, '=A1+B1', '=C1*D1'],\n",
    "    [4, 5, 3, '=A2+B2', '=C2*D2'],\n",
    "    [7, 8, 2, '=A3+B3', '=E1*C3*D3'],\n",
    "    [7, 8, 2, '=A4+B4', '=E2*C4*D4'],\n",
    "]\n",
    "from pprint import pprint\n",
    "pprint(sheet)\n",
    "print(sheet_to_code(sheet))"
   ]
  },
  {
   "cell_type": "markdown",
   "id": "d59e1e9d",
   "metadata": {},
   "source": [
    "# Making a small demo\n",
    "Leverage ipydatagrid (from Bloomberg) to show a small demo with a sheet on the left and code on the right. Next up probably for loops. :)\n",
    "\n",
    "Also could think about a backwards connection, i.e. editing the python code and updating the Excel sheet as necessary. What to do when putting a new line though... Something to think about.\n",
    "\n",
    "For now though, I think continuing the row-interpretation work and making it go in the demo might be good!"
   ]
  },
  {
   "cell_type": "code",
   "execution_count": null,
   "id": "28376d14",
   "metadata": {},
   "outputs": [],
   "source": [
    "sheet = [\n",
    "    [3, 4, 0, '=A1+B1', '=C1*D1'],\n",
    "    [4, 5, 3, '=A2+B2', '=C2*D2'],\n",
    "    [7, 8, 2, '=A3+B3', '=E1*C3*D3'],\n",
    "    [7, 8, 2, '=A4+B4', '=E2*C4*D4'],\n",
    "]\n",
    "\n",
    "sheet = [[2, 3, 4, '=A1*B1+C1']]"
   ]
  },
  {
   "cell_type": "code",
   "execution_count": null,
   "id": "2cb14162",
   "metadata": {},
   "outputs": [
    {
     "data": {
      "application/vnd.jupyter.widget-view+json": {
       "model_id": "5d3c6ddbefc6460c87320d09408e46c3",
       "version_major": 2,
       "version_minor": 0
      },
      "text/plain": [
       "Box(children=(DataGrid(auto_fit_params={'area': 'all', 'padding': 30, 'numCols': None}, base_column_size=128, …"
      ]
     },
     "metadata": {},
     "output_type": "display_data"
    }
   ],
   "source": [
    "from ipydatagrid import DataGrid\n",
    "import ipywidgets as widgets\n",
    "import pandas as pd\n",
    "\n",
    "datagrid = DataGrid(pd.DataFrame(sheet), editable=True, base_column_size=128, base_row_size=30,\n",
    "                    layout={'height': '200px', 'width': '600px'})\n",
    "code_output = widgets.Output(layout={'border': '1px solid black'})\n",
    "\n",
    "def update_df(cell):\n",
    "    sheet[cell['row']][cell['column']] = cell['value']\n",
    "    with code_output:\n",
    "        code_output.clear_output()        \n",
    "        update_code(sheet)\n",
    "    \n",
    "def update_code(sheet):\n",
    "    code = sheet_to_code(sheet)\n",
    "    print(code)\n",
    "    exec(code)\n",
    "    print(f'Value of output: {eval(\"output\")}')\n",
    "        \n",
    "    \n",
    "datagrid.on_cell_change(update_df)\n",
    "with code_output:\n",
    "    update_code(sheet)\n",
    "    \n",
    "widgets.Box(children=[datagrid, code_output])"
   ]
  },
  {
   "cell_type": "code",
   "execution_count": null,
   "id": "0c1f1dce",
   "metadata": {},
   "outputs": [
    {
     "name": "stdout",
     "output_type": "stream",
     "text": [
      "Converted Untitled.ipynb.\n",
      "Converted evaluator.ipynb.\n",
      "Converted parser.ipynb.\n",
      "Converted translator.ipynb.\n",
      "Converted util.ipynb.\n"
     ]
    }
   ],
   "source": [
    "from nbdev.export import notebook2script; notebook2script()"
   ]
  },
  {
   "cell_type": "code",
   "execution_count": null,
   "id": "0d286223",
   "metadata": {},
   "outputs": [],
   "source": []
  }
 ],
 "metadata": {
  "kernelspec": {
   "display_name": "Python 3 (ipykernel)",
   "language": "python",
   "name": "python3"
  }
 },
 "nbformat": 4,
 "nbformat_minor": 5
}
