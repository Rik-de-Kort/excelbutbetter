{
 "cells": [
  {
   "cell_type": "code",
   "execution_count": 1,
   "id": "b7e40a3b",
   "metadata": {},
   "outputs": [],
   "source": [
    "#default_exp parser"
   ]
  },
  {
   "cell_type": "markdown",
   "id": "c4c787e7",
   "metadata": {},
   "source": [
    "# Parser_evaluator\n",
    "> Blah blah"
   ]
  },
  {
   "cell_type": "markdown",
   "id": "8d897836",
   "metadata": {},
   "source": [
    "In this notebook we'll develop a formula parser for Excel formulas. The goal is to take a string as input and produce an AST. The goal is to produce a parser that can handle cell references, functions, and the basic operators.\n",
    "\n",
    "Here's the top-level Excel spec:\n",
    "\n",
    "`formula=expression  ;\n",
    "expression=\"(\",  expression,  \")\"  | constant  | prefix-operator,  expression  | expression,  infix-operator,  expression  | expression,  postfix-operator  | cell-reference  |function-call  | name  ;`"
   ]
  },
  {
   "cell_type": "code",
   "execution_count": 2,
   "id": "c9bd6a95",
   "metadata": {},
   "outputs": [],
   "source": [
    "#export\n",
    "class ParseError(ValueError): pass"
   ]
  },
  {
   "cell_type": "code",
   "execution_count": 3,
   "id": "ae27d11a",
   "metadata": {},
   "outputs": [],
   "source": [
    "#export\n",
    "def parse(s):\n",
    "    '''Parse s into an AST.'''\n",
    "    assert isinstance(s, str), f'Argument {s} to parse is not a string'\n",
    "    # formula such as a reference\n",
    "    if s.startswith('='): return parse_formula(s[1:].strip())\n",
    "    else: return parse_value(s)\n",
    "    \n",
    "def parse_value(s):\n",
    "    # text\n",
    "    # Todo(Rik): this doesn't work for formulas with tuples in them. Should be not greedy!\n",
    "    if len(s) >= 2 and s.startswith('\"') and s.endswith('\"') and not '\"' in s[1:-1]: return s[1:-1]\n",
    "    # Single char\n",
    "    elif not s in '0123456789' and len(s) == 1: return s\n",
    "    # Bools\n",
    "    elif s.lower() == 'true': return True\n",
    "    elif s.lower() == 'false': return False\n",
    "    # Integers\n",
    "    try: return int(s)\n",
    "    except ValueError: pass\n",
    "    # Floats\n",
    "    try: return float(s)\n",
    "    except ValueError: pass\n",
    "    raise ParseError(f'Unable to parse value {s}')"
   ]
  },
  {
   "cell_type": "code",
   "execution_count": 4,
   "id": "a8c94781",
   "metadata": {},
   "outputs": [
    {
     "name": "stdout",
     "output_type": "stream",
     "text": [
      "No js module found, not running main scripts.\n"
     ]
    }
   ],
   "source": [
    "#export\n",
    "import re\n",
    "from py_proto import colname_to_num, num_to_colname\n",
    "from collections import namedtuple\n",
    "\n",
    "re_ref = re.compile('^(?P<cfix>\\$)?(?P<col>[A-Z]+)(?P<rfix>\\$)?(?P<row>[1-9][0-9]*)$')\n",
    "\n",
    "# Todo(Rik): Maybe worried about negative rows/cols? Input vaildation?\n",
    "class Ref:\n",
    "    def __init__(self, row, column, fixed_row=False, fixed_column=False):\n",
    "        self.row, self.column = row, column\n",
    "        self.fixed_row, self.fixed_column = fixed_row, fixed_column\n",
    "        \n",
    "    def __eq__(self, other):\n",
    "        return self.__dict__ == other.__dict__\n",
    "    \n",
    "    def __hash__(self):\n",
    "        return self.to_string().__hash__()\n",
    "    \n",
    "    def __repr__(self):\n",
    "        return f'Ref(row={self.row}, column={self.column}, fixed_row={self.fixed_row}, fixed_column={self.fixed_column})'\n",
    "\n",
    "    @classmethod\n",
    "    def from_string(cls, s):\n",
    "        m = re_ref.match(s)\n",
    "        if not m: raise ParseError(f'{s} is not a reference')\n",
    "        row, fixed_row = int(m['row'])-1, bool(m['rfix'])\n",
    "        column, fixed_column = colname_to_num(m['col']), bool(m['cfix'])\n",
    "        assert row >= 0\n",
    "        return cls(row, column, fixed_row, fixed_column)\n",
    "    \n",
    "    def to_string(self):\n",
    "        col = f'{\"$\" if self.fixed_column else \"\"}{num_to_colname(self.column)}'\n",
    "        row = f'{\"$\" if self.fixed_column else \"\"}{self.row+1}'\n",
    "        return col+row\n",
    "\n",
    "InfixOp = namedtuple('InfixOp', ['op', 'left', 'right'])\n",
    "PrefixOp = namedtuple('PrefixOp', ['op', 'arg'])\n",
    "PostfixOp = namedtuple('PostfixOp', ['op', 'arg'])\n",
    "# We write operators in precedence order\n",
    "operators = {\n",
    "    # Todo(Rik): support for intersection op (which idiot ever thought that should be a space)\n",
    "    ':': InfixOp, # ' ': InfixOp\n",
    "    '-': PrefixOp, '%': PostfixOp, r'\\^': InfixOp,\n",
    "    r'\\*': InfixOp, '/': InfixOp, r'\\+': InfixOp,\n",
    "    '-': InfixOp, r'\\&': InfixOp, '=': InfixOp,\n",
    "    '<': InfixOp, '>': InfixOp, '<=': InfixOp,\n",
    "    '>=': InfixOp, '<>': InfixOp, ',': InfixOp, \n",
    "}\n",
    "\n",
    "Function = namedtuple('Function', ['name', 'args'])\n",
    "\n",
    "def get_parenthesized_indices(s):\n",
    "    '''Get a set of indices in s of characters which occur on or between parentheses'''\n",
    "    paren_indices = set()\n",
    "    n_spans_open = 0\n",
    "    for i, c in enumerate(s):\n",
    "        if c == '(': n_spans_open +=1 \n",
    "        \n",
    "        if n_spans_open > 0: paren_indices.add(i)\n",
    "\n",
    "        if c == ')': n_spans_open -= 1\n",
    "        if n_spans_open < 0: raise ParseError(f'Unmatched ) in {s}')\n",
    "        \n",
    "    if n_spans_open > 0: raise ParseError(f'Unmatched ( in {s}')\n",
    "    return paren_indices\n",
    "\n",
    "assert get_parenthesized_indices('(2+3)*(4*(7-3))') == set(range(0, 5)) | set(range(6, 15))\n",
    "assert get_parenthesized_indices('fooo (3, 4) bar ((5, (7)))') == set(range(5, 11)) | set(range(16, 26))\n",
    "\n",
    "\n",
    "def parse_formula(s):\n",
    "    '''Turn a formula (after some = sign) into an AST'''\n",
    "    # Base case, somebody put a constant there\n",
    "    try: return parse(s)\n",
    "    except ParseError: pass\n",
    "    # Parse ref\n",
    "    try: return Ref.from_string(s)\n",
    "    except ParseError: pass\n",
    "        \n",
    "    # Matching operators: we do this in __reverse__ precendence order. The intuition for this is that\n",
    "    # during calculation, we roll up the parse tree from the bottom, since that's where the leaves with\n",
    "    # values are. Since the strongest binding operations hould be executed first, it follows that we\n",
    "    # want to push those operators down into the \n",
    "    # Operators are in precedence order, so start by identifying the *last* thing that should match.\n",
    "    # We try to parse the sections identified by the parts indicated by the formula. If that fails, clearly\n",
    "    # we must have misinterpreted the operation (like for -3.0, we'll first try to parse it as\n",
    "    # InfixOp('-', '', '3.0')) but '' doesn't parse (text values we want to have quotes).\n",
    "    indices_to_skip = get_parenthesized_indices(s)\n",
    "    for op, typ in reversed(operators.items()):\n",
    "        # Todo(Rik): special-casing for space operator. It's only valid between two references,\n",
    "        # should just be stripped otherwise. Bit of a hassle.\n",
    "        # Todo(Rik): did not think through tuples well enough: this is a case where a higher-priority\n",
    "        # operator can follow a lower priority one, e.g. in '=IF(3<4, 10, 11)'. Maybe this is a precendence\n",
    "        # error, and tuple should be somewhere else in the hierarchy?\n",
    "        # Todo(Rik): similary, tuples might get empty arguments [(1,,1) should evaluate to (1, None, 1)]\n",
    "        # but this is obviously nonsensical for the others.\n",
    "        op_whitespace = r'\\s*'+op+r'\\s*'\n",
    "        if re.search(op_whitespace, s) and typ == InfixOp:\n",
    "            for m in re.finditer(op_whitespace, s):  # Sure hope nothing's left associative\n",
    "                if m.start() in indices_to_skip: continue\n",
    "                left, right = s[:m.start()], s[m.end():]\n",
    "                try: return typ(op, parse_formula(left), parse_formula(right))\n",
    "                except ParseError: pass\n",
    "        elif re.search(op_whitespace, s) and typ == PostfixOp:\n",
    "            # If parsing was correct, should have been the last one\n",
    "            if s.index(op) in indices_to_skip: continue\n",
    "            if s.index(op) != len(s)-1: raise ParseError(f'PostfixOp {op} not in last position in {s}')\n",
    "            try: return typ(op, parse_formula(s[:-1]))\n",
    "            except ParseError: pass\n",
    "        elif re.search(op_whitespace, s) and typ == PrefixOp:\n",
    "            # Everything following op should be parseable as one expression\n",
    "            if s.index(op) in indices_to_skip: continue\n",
    "            if s.index(op) != 0: raise ParseError(f'PrefixOp {op} not in first position in {s}')\n",
    "            try: return typ(op, parse_formula(s[1:]))\n",
    "            except ParseError: pass\n",
    "          \n",
    "    # There are no operators outside of parentheses to parse. that means that we must've arrived\n",
    "    # at an enclosing expression. Either something like '(3+4)', or something like 'SUM(A1:A4)'.\n",
    "    # We use `find` to distinguish between the cases:\n",
    "    if s == '' or s[-1] != ')': raise ParseError(f'{s} does not appear to be a parseable formula.')\n",
    "    i_open = s.find('(')\n",
    "    if i_open == 0: return parse_formula(s[1:-1])\n",
    "    elif i_open > 0:\n",
    "        if s[i_open+1:-1] == '': return Function(name=s[:i_open], args=None)\n",
    "        else: return Function(name=s[:i_open], args=parse_formula(s[i_open+1:-1]))\n",
    "        \n",
    "    raise ParseError(f'{s} does not appear to be a parseable formula.')"
   ]
  },
  {
   "cell_type": "code",
   "execution_count": 5,
   "id": "329e2f77",
   "metadata": {},
   "outputs": [],
   "source": [
    "import pytest\n",
    "\n",
    "with pytest.raises(ParseError):\n",
    "    Ref.from_string('foo')\n",
    "with pytest.raises(ParseError):\n",
    "    Ref.from_string('A0')\n",
    "assert Ref.from_string('A4') == Ref(3, 0, fixed_row=False, fixed_column=False)\n",
    "assert Ref.from_string('$A4') == Ref(3, 0, fixed_row=False, fixed_column=True)\n",
    "assert Ref.from_string('A$4') == Ref(3, 0, fixed_row=True, fixed_column=False)\n",
    "assert Ref.from_string('$A$4') == Ref(3, 0, fixed_row=True, fixed_column=True)\n",
    "assert Ref(10, 10) == Ref(10, 10, fixed_row=False, fixed_column=False)\n",
    "assert Ref.from_string('A4').to_string() == 'A4'"
   ]
  },
  {
   "cell_type": "code",
   "execution_count": 6,
   "id": "54e7a47b",
   "metadata": {},
   "outputs": [],
   "source": [
    "# Individual values\n",
    "assert parse('-25') == -25\n",
    "assert parse('10.3') == 10.3\n",
    "assert parse('TRUE') == True\n",
    "assert parse('FALSE') == False\n",
    "assert parse('\\\"foo\\\"') == 'foo'\n",
    "assert parse(\"1.3e-7\") == 1.3e-7\n",
    "assert parse(\"-1.3e6\") == -1.3e6\n",
    "assert parse('c') == 'c'  # We allow single characters\n",
    "assert parse('1e7') == 1e7"
   ]
  },
  {
   "cell_type": "code",
   "execution_count": 7,
   "id": "0e493b4d",
   "metadata": {},
   "outputs": [],
   "source": [
    "# Easy formulas\n",
    "assert parse('=3.0') == 3.0\n",
    "assert parse('=B7') == Ref(6, 1, fixed_row=False, fixed_column=False)\n",
    "assert parse('=$B$7') == Ref(6, 1, fixed_row=True, fixed_column=True)\n",
    "assert parse('=3*4') == InfixOp(op=r'\\*', left=3, right=4)\n",
    "assert parse('=2+3*4') == InfixOp(op=r'\\+', left=2, right=InfixOp(op=r'\\*', left=3, right=4))\n",
    "assert parse('=3^4') == InfixOp(op=r'\\^', left=3, right=4)\n",
    "with pytest.raises(ParseError):\n",
    "    parse('=foo-')\n",
    "    \n",
    "# Don't forget spacing issues!\n",
    "assert parse('= 3.0') == 3.0"
   ]
  },
  {
   "cell_type": "code",
   "execution_count": 8,
   "id": "af2a766f",
   "metadata": {},
   "outputs": [],
   "source": [
    "assert parse('=(2+3)*4') == InfixOp(op=r'\\*', left=InfixOp(op=r'\\+', left=2, right=3), right=4)\n",
    "assert parse('=2+3*4') == InfixOp(op=r'\\+', left=2, right=InfixOp(op=r'\\*', left=3, right=4))\n",
    "assert parse('=SUM(A1:A4)') == Function(\n",
    "    name='SUM',\n",
    "    args=InfixOp(op=':', left=Ref(row=0, column=0), right=Ref(row=3, column=0))\n",
    ")\n",
    "assert parse('=PI()') == Function(name='PI', args=None)"
   ]
  },
  {
   "cell_type": "markdown",
   "id": "598f3655",
   "metadata": {},
   "source": [
    "# Evaluation\n",
    "Evaluation is slightly difficult: we need to evaluate refs, but they might be circular. One way to go about this is to fix an evaluation order on the spreadsheet (let's say row 1 first, then row 2, etc.), and defer any cells that refer to not-yet-evaluated cells, making additional passes over those.\n",
    "For now, let's skip over formula's with references in them, raising EvaluationError instead."
   ]
  },
  {
   "cell_type": "code",
   "execution_count": 9,
   "id": "bfd1151a",
   "metadata": {},
   "outputs": [],
   "source": [
    "import operator as op\n",
    "\n",
    "def parse_criterium(criterium):\n",
    "    if not isinstance(criterium, str):\n",
    "        return lambda val: val == criterium\n",
    "    \n",
    "    # Comparison op\n",
    "    comparisons = {'<=': op.le, '<>': op.ne, '<': op.lt,\n",
    "                   '>=': op.ge, '>': op.gt, '=': op.eq}\n",
    "    for symbol, impl in comparisons.items():\n",
    "        if criterium.startswith(symbol):\n",
    "            try: rest = parse_value(criterium[len(symbol):])\n",
    "            except ParseError: continue\n",
    "            return lambda val: impl(val, rest)\n",
    "        \n",
    "    # String match\n",
    "    regex = []\n",
    "    escaping = False\n",
    "    for i, c in enumerate(criterium):\n",
    "        if c == '~' and not escaping:\n",
    "            escaping = True\n",
    "        elif c == '~' and escaping:\n",
    "            escaping = False\n",
    "            regex.append(c)\n",
    "        elif c == '*' and not escaping:\n",
    "            regex.append('.*')\n",
    "        elif c == '*' and escaping:\n",
    "            escaping = False\n",
    "            regex.append('\\*')\n",
    "        elif c == '?' and not escaping:\n",
    "            regex.append('.')\n",
    "        elif c == '?' and escaping:\n",
    "            regex.append('\\?')\n",
    "        else:\n",
    "            regex.append(c)\n",
    "    regex = ''.join(regex)\n",
    "\n",
    "    if regex != criterium:\n",
    "        return lambda val: re.fullmatch(regex, val) is not None\n",
    "    \n",
    "    # Need to parse the value\n",
    "    to_compare = parse_value(criterium)  # Closure are lazily evaluated\n",
    "    return lambda val: val == to_compare\n",
    "    \n",
    "assert parse_criterium('3')(3) == True\n",
    "assert parse_criterium('3')(4) == False\n",
    "assert parse_criterium('<=4')(4) == True\n",
    "assert parse_criterium('<=4')(5) == False\n",
    "assert parse_criterium('<>\"foo\"')('foo') == False\n",
    "assert parse_criterium('*')('foobar') == True\n",
    "assert parse_criterium('foo*bar')('foobar') == True\n",
    "assert parse_criterium('foo*bar')('fooooobar') == True\n",
    "assert parse_criterium('foo*bar')('fooar') == False\n",
    "assert parse_criterium('foo?bar')('fooobar') == True\n",
    "assert parse_criterium('foo?bar')('fooar') == False\n",
    "assert parse_criterium('foo~*bar')('foo*bar') == True\n",
    "assert parse_criterium('foo~*bar')('foooobar') == False\n",
    "assert parse_criterium('foo~?bar')('foo?bar') == True\n",
    "assert parse_criterium('foo~?bar')('foo~?bar') == False"
   ]
  },
  {
   "cell_type": "code",
   "execution_count": 10,
   "id": "047fa790",
   "metadata": {},
   "outputs": [],
   "source": [
    "def evaluate(tree, context=None):  # Todo(Rik): str might evaluate to ref.\n",
    "    if isinstance(tree, (int, float, bool, str)):\n",
    "        return tree\n",
    "    elif isinstance(tree, InfixOp) and tree.op == ':':\n",
    "        start, end = tree.left, tree.right\n",
    "        assert isinstance(start, Ref) and isinstance(end, Ref)\n",
    "        # Responsiblity of the caller to handle IndexError\n",
    "        return Range(\n",
    "            values=[[context[i][j] for j in range(start.column, end.column+1)]\n",
    "                     for i in range(start.row, end.row+1)],\n",
    "            start=start,\n",
    "            end=end\n",
    "        )\n",
    "    elif isinstance(tree, InfixOp):\n",
    "        return infix_eval_map[tree.op](evaluate(tree.left, context), evaluate(tree.right, context))\n",
    "    elif isinstance(tree, PrefixOp):\n",
    "        return prefix_eval_map[tree.op](evaluate(tree.arg, context))\n",
    "    elif isinstance(tree, PostfixOp):\n",
    "        return postfix_eval_map[tree.op](evaluate(tree.arg, context))\n",
    "    elif isinstance(tree, Function):\n",
    "#         if tree.args is None: return function_eval_map[tree.name]()\n",
    "        args = evaluate(tree.args, context)\n",
    "        if not isinstance(args, tuple): # Gymnastics to handle one-argument functions\n",
    "            args = (args,)\n",
    "        return function_eval_map[tree.name](args)\n",
    "    elif isinstance(tree, Ref):  # Responsiblity of the caller to handle IndexError\n",
    "        return context[tree.row][tree.column]"
   ]
  },
  {
   "cell_type": "code",
   "execution_count": 11,
   "id": "3b8b8755",
   "metadata": {},
   "outputs": [],
   "source": [
    "operators = {\n",
    "    ':': InfixOp, ' ': InfixOp,\n",
    "    '-': PrefixOp, '%': PostfixOp, r'\\^': InfixOp,\n",
    "    r'\\*': InfixOp, '/': InfixOp, r'\\+': InfixOp,\n",
    "    '-': InfixOp, r'\\&': InfixOp, '=': InfixOp,\n",
    "    '<': InfixOp, '>': InfixOp, '<=': InfixOp,\n",
    "    '>=': InfixOp, '<>': InfixOp, ',': InfixOp,\n",
    "}\n",
    "\n",
    "class Range:  # We don't use a named tuple here because isinstance(namedtuple, tuple) == True.\n",
    "    def __init__(self, values=[], start=None, end=None):\n",
    "        if start.column > end.column or start.row > end.row: raise ValueError\n",
    "        self.values = values\n",
    "        self.start = start\n",
    "        self.end = end\n",
    "    \n",
    "    def __repr__(self):\n",
    "        return f'Range(values={self.values}, start={self.start}, end={self.end})'\n",
    "\n",
    "\n",
    "infix_eval_map = {\n",
    "    ':': None,\n",
    "    ',': lambda left, right: (left, right),  # Tuple constructor\n",
    "    ' ': None,  # Range intersection\n",
    "    r'\\^': lambda left, right: left ** right,\n",
    "    r'\\*': lambda left, right: left * right,\n",
    "    '/': lambda left, right: left / right,\n",
    "    r'\\+': lambda left, right: left + right,\n",
    "    '-': lambda left, right: left - right,\n",
    "    r'\\&': None,  # Todo(Rik) look this up\n",
    "    '=': lambda left, right: left == right,\n",
    "    '<': lambda left, right: left < right,\n",
    "    '>': lambda left, right: left > right,\n",
    "    '<=': lambda left, right: left <= right,\n",
    "    '>=': lambda left, right: left >= right,\n",
    "    '<>': lambda left, right: left != right,\n",
    "}\n",
    "\n",
    "prefix_eval_map = {\n",
    "    '-': lambda arg: -arg,\n",
    "}\n",
    "\n",
    "postfix_eval_map = {\n",
    "    '%': lambda arg: arg/100,\n",
    "}\n",
    "\n",
    "def flatten_ranges(args):\n",
    "    '''Takes a tuple args and expands all the ranges to fit inline.'''\n",
    "    for arg in args:\n",
    "        if isinstance(arg, Range):\n",
    "            yield from (v for row in arg.values for row in col)\n",
    "        elif isinstance(arg, tuple):  # Todo(Rik): do I want to flatten ranges in this case?\n",
    "            yield from flatten_ranges(arg)\n",
    "        else:\n",
    "            yield arg\n",
    "            \n",
    "def flatten_nested_tuples(args, flatten_ranges=False):\n",
    "    '''\n",
    "    Takes some nested tuples in args and flattens them.\n",
    "    >>> flatten_nested_tuples((3, 4, (5, (6, 7))))\n",
    "    (3, 4, 5, 6, 7)\n",
    "    '''\n",
    "    for arg in args:\n",
    "        if isinstance(arg, tuple):\n",
    "            yield from flatten_nested_tuples(arg, flatten_ranges)\n",
    "        elif isinstance(arg, Range) and flatten_ranges:\n",
    "            yield from (v for row in arg.values for v in row)\n",
    "        else:\n",
    "            yield arg\n",
    "\n",
    "def splat(func):\n",
    "    '''\n",
    "    Decorate a function to be called with a tuple, like lambda args: f(*args).\n",
    "    This allows us to define a function on tuples, while still benefitting from\n",
    "    the arity-checking of `f`.\n",
    "    This is more readable when `f` is not a function from the stdlib. For instance,\n",
    "    `f(x, y) = math.atan(y/x)`. Defining `g = splat(lambda x, y: math.atan(y/x))`\n",
    "    is more readable than `g = lambda args: (lambda x, y: math.atan(y/x))(*args)`.\n",
    "    '''\n",
    "    def wrapped(args):\n",
    "        return func(*args)\n",
    "    return wrapped\n",
    "    \n",
    "def flat_ranges(func):\n",
    "    '''\n",
    "    Decorate a function so ranges in the argument are flattened.\n",
    "    '''\n",
    "    def wrapped(args):\n",
    "        return func(tuple(flatten_ranges(args)))\n",
    "    return wrapped\n",
    "\n",
    "def flat_tuples(func, flatten_ranges=False):\n",
    "    '''\n",
    "    Decorate a function so tuples get flattened.\n",
    "    '''\n",
    "    def wrapped(args):\n",
    "        return func(tuple(flatten_nested_tuples(args, flatten_ranges)))\n",
    "    return wrapped\n",
    "\n",
    "def constant(value):\n",
    "    def wrapped(args):\n",
    "        if args is not None: raise TypeError\n",
    "        return value\n",
    "    return wrapped\n",
    "            \n",
    "import math\n",
    "from numbers import Number\n",
    "from functools import reduce\n",
    "            \n",
    "def excel_averageif(index_range, criterium, average_range=None):\n",
    "    '''\n",
    "    While excel doesn't require index_range and average_range to have the same shape, we do!\n",
    "    Todo(Rik): maybe there needs to be some AST-rewriting pass?\n",
    "    '''\n",
    "    criterium = parse_criterium(criterium)\n",
    "    if average_range is None:\n",
    "        to_count = [i for i_row in index_range.values for i in i_row if criterium(i)]\n",
    "    else:\n",
    "        to_count = [a for i_row, a_row in zip(index_range.values, average_range.values)\n",
    "                      for i, a in zip(i_row, a_row) if criterium(i)]\n",
    "    return sum(to_count) / len(to_count)\n",
    "\n",
    "def excel_choose(index, *values):\n",
    "    if 1 <= index <= len(values):\n",
    "        return values[index-1]\n",
    "    else:\n",
    "        raise ValueError\n",
    "\n",
    "def count_if(should_count):\n",
    "    def counter(args):\n",
    "        c = 0\n",
    "        for arg in args:\n",
    "            if isinstance(arg, Range):\n",
    "                c += sum(should_count(v) for row in arg.values for v in row)\n",
    "            else:\n",
    "                c += should_count(arg)\n",
    "        return c\n",
    "    return counter\n",
    "        \n",
    "def excel_countif(r, criterium):\n",
    "    criterium = parse_criterium(criterium)\n",
    "    return count_if(criterium)([r])\n",
    "\n",
    "def excel_find(s, t, start_pos=0):\n",
    "    return t.index(s, start_pos)+1\n",
    "\n",
    "def excel_fv(interest, n_periods, payment=None, present_value=None, timing=0):\n",
    "    assert timing in (0, 1)\n",
    "    if payment is None:\n",
    "        assert present_value is not None, f'Payment was not provided, so present_value must be!'\n",
    "        payment = 0\n",
    "    elif present_value is None:\n",
    "        present_value = 0 \n",
    "\n",
    "    appreciation = present_value * (1+interest)**n_periods\n",
    "    payments = payment * (1+interest*timing)*((1+interest)**n_periods-1)/interest\n",
    "    return -(appreciation + payments)\n",
    "    \n",
    "def excel_hlookup(lookup_value, table_range, i, is_approximate=True):\n",
    "    if i < 1: raise ValueError('row index < 1 passed to hlookup')\n",
    "    try: j = table_range.values[0].index(lookup_value)\n",
    "    except ValueError:\n",
    "        if not is_approximate: return None\n",
    "        try: j = [j for j, s in enumerate(table_range.values[0]) if not s.startswith(lookup_value)][-1]\n",
    "        except IndexError: return None\n",
    "    return table_range.values[i-1][j]  # Excel is 1-indexed\n",
    "\n",
    "def excel_if(cond, yes, no=False):\n",
    "    return yes if cond else no\n",
    "\n",
    "# We do our own argument parsing because the first argument might be a tuple\n",
    "def excel_index(args):\n",
    "    refs_or_array = args[0] if isinstance(args[0], tuple) else (args[0],)\n",
    "    remaining = flat_tuples(lambda x: x)(args[1])\n",
    "    i, j, a = None, None, None\n",
    "    i = None if len(remaining) <= 0 else remaining[0]-1\n",
    "    j = None if len(remaining) <= 1 else remaining[1]-1\n",
    "    a = 0 if len(remaining) <= 2 else remaining[2]-1\n",
    "    if len(remaining) > 3: raise TypeError('Too many arguments to INDEX')\n",
    "    if i is None and j is None:\n",
    "        raise TypeError('One of row or column number must be present.')\n",
    "    elif i is not None and j is None:\n",
    "        if i < 0: raise TypeError('row number < 1 in INDEX not allowed')\n",
    "        return refs_or_array[a].values[i]\n",
    "    elif i is None and j is not None:\n",
    "        if j < 0: raise TypeError('column number < 1 in INDEX not allowed')\n",
    "        return [row[j] for row in refs_or_array[a].values]\n",
    "    else:\n",
    "        if i < 0 or j < 0: raise TypeError('column or row number < 1 in INDEX not allowed')\n",
    "        return refs_or_array[a].values[i][j]\n",
    "\n",
    "from scipy.optimize import newton\n",
    "    \n",
    "def excel_irr(args):\n",
    "    if len(args) == 0 or len(args) > 2: raise TypeError('too little or too many arguments to IRR')\n",
    "    values = args[0]  # Todo(Rik): array argsss\n",
    "    guess = args[1] if len(args) > 1 else 0.1\n",
    "    return newton(lambda r: sum(v / (1+r)**i for i, v in enumerate(values)), guess)\n",
    "    \n",
    "def p(f):\n",
    "    '''Print args and kwargs'''\n",
    "    def wrapped(*a, **kw):\n",
    "        print(a, kw)\n",
    "        return f(*a, **kw)\n",
    "    return wrapped\n",
    "        \n",
    "from datetime import date, time\n",
    "# Functions get their arguments passed to them as a tuple.\n",
    "# The responsibility for turning this into proper arguments lies with the implementor.\n",
    "function_eval_map = {\n",
    "    'SUM': flat_tuples(sum, flatten_ranges=True),\n",
    "    'ABS': splat(abs),\n",
    "    'ACOS': splat(math.acos),\n",
    "    'AND': lambda args: reduce(op.and_, args, True),\n",
    "    'ASIN': splat(math.asin), # lambda args: math.asin(*args),\n",
    "    'ATAN': splat(math.atan), # lambda args: math.atan(*args),\n",
    "    'ATAN2': splat(lambda x, y: math.atan(y/x)),\n",
    "    'AVERAGE': flat_tuples(lambda x: sum(x)/len(x), flatten_ranges=True),\n",
    "    'AVERAGEIF': flat_tuples(splat(excel_averageif)),\n",
    "    'CHOOSE': flat_tuples(splat(excel_choose)),\n",
    "    'COLUMNS': splat(lambda r: r.end.column - r.start.column + 1),\n",
    "    'COS': splat(math.cos),\n",
    "    'COUNT': flat_tuples(count_if(lambda v: isinstance(v, Number) and not isinstance(v, bool))),\n",
    "    'COUNTA': flat_tuples(count_if(lambda v: v is not None and not isinstance(v, str))),\n",
    "    'COUNTBLANK': flat_tuples(count_if(lambda v: v is None)),\n",
    "    'COUNTIF': flat_tuples(splat(lambda r, c: count_if(parse_criterium(c))([r]))),\n",
    "    'DATE': flat_tuples(splat(lambda year, month, day: date(year, month, day))),\n",
    "    'DAY': splat(lambda d: d.day),\n",
    "    'EVEN': splat(lambda n: 2*math.floor(n/2) if n < 0 else 2*math.ceil(n/2)),\n",
    "    'EXACT': flat_tuples(splat(lambda s, t: s == t)),\n",
    "    'EXP': splat(math.exp),\n",
    "    'FACT': splat(lambda x: math.factorial(int(x))),\n",
    "    'FALSE': splat(constant(False)),\n",
    "    'FIND': flat_tuples(splat(excel_find)),\n",
    "    'FV': flat_tuples(splat(excel_fv)),\n",
    "    'HLOOKUP': flat_tuples(splat(excel_hlookup)),\n",
    "    #'HOUR': ?????\n",
    "    'IF': flat_tuples(splat(excel_if)),\n",
    "    'INDEX': excel_index,\n",
    "    'INT': flat_tuples(splat(lambda x: math.floor(x))),\n",
    "    'IRR': flat_tuples(splat(excel_irr))\n",
    "}"
   ]
  },
  {
   "cell_type": "code",
   "execution_count": 12,
   "id": "3afde586",
   "metadata": {},
   "outputs": [],
   "source": [
    "def C(s, context=None):\n",
    "    return evaluate(parse(s), context=context)"
   ]
  },
  {
   "cell_type": "code",
   "execution_count": 13,
   "id": "03cba7eb",
   "metadata": {},
   "outputs": [],
   "source": [
    "assert C('=INT(8.9)') == 8\n",
    "assert C('=INT(-8.9)') == -9"
   ]
  },
  {
   "cell_type": "code",
   "execution_count": 14,
   "id": "f026ccbd",
   "metadata": {},
   "outputs": [],
   "source": [
    "rows = [\n",
    "    ['Fruit', 'Price', 'Count'],\n",
    "    ['Apples', 0.69, 40],\n",
    "    ['Bananas', 0.34, 38],\n",
    "    ['Lemons', 0.55, 15],\n",
    "    ['Oranges', 0.25, 25],\n",
    "    ['Pears', 0.59, 40],\n",
    "    ['Almonds', 2.8, 10],\n",
    "]\n",
    "\n",
    "assert C('=INDEX(A2:C7, 2, 3)', rows) == 38\n",
    "assert C('=INDEX((A2:C4,A6:C7),2,2,2)', rows) == 2.8\n",
    "assert C('=INDEX((A2:C4,A6:C7),2,2,1)', rows) == 0.34"
   ]
  },
  {
   "cell_type": "code",
   "execution_count": 15,
   "id": "6241cf54",
   "metadata": {},
   "outputs": [],
   "source": [
    "assert C('=IF(10>5,\"Yes\",\"No\")') == 'Yes'\n",
    "assert  C('=IF(10>5,\"Yes\")') == 'Yes'\n",
    "# Empty args not yet supported\n",
    "# assert C('=IF(10>5,\"Yes\",)') == 'Yes'\n",
    "assert C('=IF(10<5,\"Yes\")') == False\n",
    "# assert C('=IF(10<5,\"Yes\",)') == 0\n",
    "# assert C('=IF(10>5,,\"No\")') == 0\n",
    "# assert C('=IF(10>5,,)') == 0 \n",
    "assert C('=IF(10>5,\"Yes\",20)') == 'Yes'\n",
    "assert C('=IF(10<5,\"Yes\",20)') == 20"
   ]
  },
  {
   "cell_type": "raw",
   "id": "1cbdcc20",
   "metadata": {},
   "source": [
    "# Todo(Rik): HOUR/TIME support\n",
    "assert C('=HOUR(DATE(2006,2,26)+TIME(2,10,20))') == 2\n",
    "assert C('=HOUR(TIME(22,56,34))') == 22\n",
    "assert C('=HOUR(0)') == 0\n",
    "assert C('=HOUR(10.5)') == 12\n",
    "assert C('=HOUR(\"22-Oct-2001 10:53:12\")') == 10\n",
    "assert C('=HOUR(\"10:53:12 pm\")') == 22\n",
    "assert C('=HOUR(\"10:53:12 pm\")') == 22\n",
    "assert C('=HOUR(\"22:53:12\")') == 22"
   ]
  },
  {
   "cell_type": "code",
   "execution_count": 16,
   "id": "b35659df",
   "metadata": {},
   "outputs": [],
   "source": [
    "rows = [\n",
    "    ['Axles', 'Bearings', 'Bolts'],\n",
    "    [4, 6, 9],\n",
    "    [5, 7, 10],\n",
    "    [6, 8, 11],\n",
    "]\n",
    "\n",
    "assert C('=HLOOKUP(\"Axles\",A1:C4,2,TRUE)', context=rows) == 4\n",
    "assert C('=HLOOKUP(\"Bearings\",A1:C4,3,FALSE)', context=rows) == 7\n",
    "assert C('=HLOOKUP(\"B\",A1:C4,3,TRUE)', context=rows) == 5\n",
    "assert C('=HLOOKUP(\"Bolts\",A1:C4,4)', context=rows) == 11\n",
    "# Array expressions not yet supported\n",
    "# assert C('=HLOOKUP(3,{1,2,3;\"a\",\"b\",\"c\";\"d\",\"e\",\"f\"},2,TRUE)', context=rows) == 'c'"
   ]
  },
  {
   "cell_type": "code",
   "execution_count": 17,
   "id": "c65c2f77",
   "metadata": {},
   "outputs": [],
   "source": [
    "assert C('=FV(0.06/12,10,-200,-500,1)') == pytest.approx(2581.40, abs=1e-2)\n",
    "assert C('=FV(0.12/12,12,-1000)') == pytest.approx(12682.50, abs=1e-2)\n",
    "# This test doesn't work due to empty entry in comma-separated list\n",
    "# assert C('=FV(0.11/12,35,-2000,,1)') == pytest.approx(82846.25, abs=1e-2)\n",
    "assert C('=FV(0.06/12,12,-100,-1000,1)') == pytest.approx(2301.40, abs=1e-2)"
   ]
  },
  {
   "cell_type": "code",
   "execution_count": 18,
   "id": "c828b2a5",
   "metadata": {},
   "outputs": [],
   "source": [
    "assert C('=FIND(\"de\", \"abcdef\")') == 4"
   ]
  },
  {
   "cell_type": "code",
   "execution_count": 19,
   "id": "b3abff9f",
   "metadata": {},
   "outputs": [],
   "source": [
    "assert C('=FALSE()') == False"
   ]
  },
  {
   "cell_type": "code",
   "execution_count": 20,
   "id": "bc409045",
   "metadata": {},
   "outputs": [],
   "source": [
    "assert C('=FACT(5)') == 120\n",
    "assert C('=FACT(3.5)') == 6\n",
    "assert C('=FACT(0)') == 1"
   ]
  },
  {
   "cell_type": "code",
   "execution_count": 21,
   "id": "a7ef7cbf",
   "metadata": {},
   "outputs": [],
   "source": [
    "assert C('=EXP(0)') == 1\n",
    "assert C('=EXP(-1)') == pytest.approx(0.367879441)\n",
    "assert C('=EXP(1)') == pytest.approx(2.718281828)\n",
    "assert C('=EXP(2)') == pytest.approx(7.389056099)"
   ]
  },
  {
   "cell_type": "code",
   "execution_count": 22,
   "id": "e6ca29f2",
   "metadata": {},
   "outputs": [],
   "source": [
    "assert C('=EXACT(\"ABC\", \"ABC\")') == True\n",
    "assert C('=EXACT(\"ABC\", \"ABCD\")') == False\n",
    "assert C('=EXACT(\"Abc\", \"aBC\")') == False\n",
    "assert C('=EXACT(\"\", \"\")') == True\n",
    "with pytest.raises(TypeError):\n",
    "    C('=EXACT(\"\", \"\", \"\")')"
   ]
  },
  {
   "cell_type": "code",
   "execution_count": 23,
   "id": "e2665585",
   "metadata": {},
   "outputs": [],
   "source": [
    "assert C('=EVEN(1.5)') == 2\n",
    "assert C('=EVEN(3)') == 4\n",
    "assert C('=EVEN(2)') == 2\n",
    "assert C('=EVEN(-1)') == -2"
   ]
  },
  {
   "cell_type": "code",
   "execution_count": 24,
   "id": "a6a5d18c",
   "metadata": {},
   "outputs": [],
   "source": [
    "assert C('=DATE(2021, 7, 31)') == date(2021, 7, 31)\n",
    "assert C('=DAY(DATE(2021, 7, 31))') == 31"
   ]
  },
  {
   "cell_type": "code",
   "execution_count": 25,
   "id": "09394a5b",
   "metadata": {},
   "outputs": [],
   "source": [
    "rows = [[i+j for j in range(10)] for i in range(10)]\n",
    "\n",
    "assert C('=COUNTIF(A1:J10, \"=3\")', rows) == 4\n",
    "assert C('=COUNTIF(A1:J10, \"<0\")', rows) == 0"
   ]
  },
  {
   "cell_type": "code",
   "execution_count": 26,
   "id": "d44717b4",
   "metadata": {},
   "outputs": [],
   "source": [
    "assert C('=COUNTBLANK(A1:D1)', context=[[1, None, 3, None]]) == 2"
   ]
  },
  {
   "cell_type": "code",
   "execution_count": 27,
   "id": "fb8a41a5",
   "metadata": {},
   "outputs": [],
   "source": [
    "assert C('=COUNTA(\"foo\", 3, 4, \"bar\")') == 2\n",
    "assert C('=COUNTA(True, 3, 4, b)') == 3"
   ]
  },
  {
   "cell_type": "code",
   "execution_count": 28,
   "id": "ac27c452",
   "metadata": {},
   "outputs": [],
   "source": [
    "rows = [[i+j for j in range(10)] for i in range(10)]\n",
    "\n",
    "assert C('=COUNT(\"foo\", 3, 4, \"bar\")') == 2\n",
    "assert C('=COUNT(True, 3, 4, b)') == 2\n",
    "assert C('=COUNT(A1:A4)', rows) == 4\n",
    "assert C('=COUNT()') == 0"
   ]
  },
  {
   "cell_type": "code",
   "execution_count": 29,
   "id": "830fb59a",
   "metadata": {},
   "outputs": [],
   "source": [
    "assert C('=COS(37)') == math.cos(37)\n",
    "with pytest.raises(TypeError):\n",
    "    C('=COS(37, 10)')"
   ]
  },
  {
   "cell_type": "code",
   "execution_count": 30,
   "id": "82068f1b",
   "metadata": {},
   "outputs": [],
   "source": [
    "rows = [[i+j for j in range(10)] for i in range(10)]\n",
    "\n",
    "assert C('=COLUMNS(A1:B4)', rows) == 2\n",
    "assert C('=COLUMNS(A1:E7)', rows) == 5\n",
    "assert C('=COLUMNS(A1:A2)', rows) == 1\n",
    "with pytest.raises(ValueError):\n",
    "    C('=COLUMNS(B7:A1)')"
   ]
  },
  {
   "cell_type": "code",
   "execution_count": 31,
   "id": "b6a09026",
   "metadata": {},
   "outputs": [],
   "source": [
    "assert C('=CHOOSE(1, 3, 4, 5)') == 3\n",
    "assert C('=CHOOSE(3, 3, 4, 5)') == 5\n",
    "with pytest.raises(ValueError):\n",
    "    C('=CHOOSE(4, 3, 4, 5)')"
   ]
  },
  {
   "cell_type": "code",
   "execution_count": 32,
   "id": "07bf9dd8",
   "metadata": {},
   "outputs": [],
   "source": [
    "rows = [[i+j for j in range(10)] for i in range(10)]\n",
    "\n",
    "assert C('=AVERAGEIF(A1:A4, 3)', rows) == 3\n",
    "assert C('=AVERAGEIF(A1:A4, \">=2\")', rows) == 2.5\n",
    "assert C('=AVERAGEIF(A1:A4, \">=2\", B1:B4)', rows) == 3.5"
   ]
  },
  {
   "cell_type": "code",
   "execution_count": 33,
   "id": "a936af20",
   "metadata": {},
   "outputs": [],
   "source": [
    "rows = [[i+j for j in range(10)] for i in range(10)]\n",
    "\n",
    "assert C('=SUM(A1:A2)', [[1], [2]]) == 3\n",
    "assert C('=SUM(1, 2, 3, 4, 5)') == 15\n",
    "assert C('=SUM(A1:B1, 3)', [[1, 2]]) == 6\n",
    "assert C('=SUM(A1:J10)', rows) == sum(sum(row) for row in rows)"
   ]
  },
  {
   "cell_type": "code",
   "execution_count": 34,
   "id": "3d3774a6",
   "metadata": {},
   "outputs": [],
   "source": [
    "assert C('=3*4') == 12\n",
    "assert C('=(2+3)*4') == 20\n",
    "assert C('=1e7 / 2') == 5_000_000\n",
    "assert C('=SUM(3, 4)') == 7\n",
    "assert C('=IF(3 < 4, \"three is less than four\", \"huh?!\")') == 'three is less than four'\n",
    "assert evaluate(Ref(row=0, column=1), context=[[0, 1]]) == 1\n",
    "assert C('=A1 + A$2', context=[[1, 2], [3, 4]]) == 4"
   ]
  },
  {
   "cell_type": "markdown",
   "id": "13d1c90e",
   "metadata": {},
   "source": [
    "# Translation\n",
    "Evaluation is useful, but in the end the core seems to be translation.\n",
    "\n",
    "Goal of this part given a table-like grid of cells, write an equivalent Python program that can be run on the input data (cells without any dependencies) to generate the output (cells in the last column or cells without any dependencies)."
   ]
  },
  {
   "cell_type": "code",
   "execution_count": 35,
   "id": "eb89a77b",
   "metadata": {},
   "outputs": [],
   "source": [
    "infix_translate_map = {\n",
    "    '\\\\+': lambda x, y: f'{x} + {y}',\n",
    "    '\\\\*': lambda x, y: f'{x} * {y}'\n",
    "\n",
    "}\n",
    "\n",
    "prefix_translate_map = {}\n",
    "postfix_translate_map = {}\n",
    "\n",
    "# We save the variables in a tuple because it's convenient to use ordering\n",
    "# to compare formulas. If they have the same AST structure we can just check\n",
    "# them for consistency one by one.\n",
    "def translate(tree, variables=tuple()):  # Todo(Rik): str might translate to ref.\n",
    "    if isinstance(tree, (int, float, bool, str)):\n",
    "        return tree, variables\n",
    "    elif isinstance(tree, InfixOp) and tree.op == ':':\n",
    "        # Todo(Rik): handle ranges in formulas\n",
    "        raise NotImplemented\n",
    "    elif isinstance(tree, InfixOp):\n",
    "        t_left, var_left = translate(tree.left, variables)\n",
    "        t_right, var_right = translate(tree.right, variables)\n",
    "        return infix_translate_map[tree.op](t_left, t_right), var_left + var_right\n",
    "    elif isinstance(tree, PrefixOp):\n",
    "        t_arg, var_arg = translate(tree.arg, variables)\n",
    "        return prefix_translate_map[tree.op](t_arg), var_arg\n",
    "    elif isinstance(tree, PostfixOp):\n",
    "        t_arg, var_arg = translate(tree.arg, variables)\n",
    "        return postfix_translate_map[tree.op](t_arg), var_arg\n",
    "    elif isinstance(tree, Function):\n",
    "#         if tree.args is None: return function_translate_map[tree.name]()\n",
    "        t_args, var_args = translate(tree.args, variables)\n",
    "        if not isinstance(args, tuple): # Gymnastics to handle one-argument functions\n",
    "            t_args = (t_args,)\n",
    "        return function_translate_map[tree.name](t_args), var_args\n",
    "    elif isinstance(tree, Ref):  # Create and return variable name\n",
    "        return tree.to_string(), variables + (tree,)"
   ]
  },
  {
   "cell_type": "markdown",
   "id": "e44981da",
   "metadata": {},
   "source": [
    "That covers translating a single cell. Next example is detecting when output cells are similar. In the below example, it should recognize that the first and second rows are the same function."
   ]
  },
  {
   "cell_type": "code",
   "execution_count": 36,
   "id": "f1e88e02",
   "metadata": {},
   "outputs": [],
   "source": [
    "def equivalent(tree, other):\n",
    "    if type(tree) != type(other): return False\n",
    "    if isinstance(tree, (int, float, bool, str)):  # Todo(Rik): maybe str parses to Ref?\n",
    "        return tree == other\n",
    "    elif isinstance(tree, InfixOp) and tree.op == ':':\n",
    "        # Todo(Rik): handle ranges in formulas\n",
    "        raise NotImplemented\n",
    "    elif isinstance(tree, InfixOp):\n",
    "        return (tree.op == other.op\n",
    "                and equivalent(tree.left, other.left)\n",
    "                and equivalent(tree.right, other.right))\n",
    "    elif isinstance(tree, PrefixOp) or isinstance(tree, PostfixOp):\n",
    "        return (tree.op == other.op\n",
    "                and equivalent(tree.arg, other.arg))\n",
    "    elif isinstance(tree, Function):  # Todo(Rik): consider turning ops into function calls?\n",
    "        return (tree.name == other.name\n",
    "               and equivalent(tree.args, other.args))\n",
    "    elif isinstance(tree, Ref):  # Create and return variable name\n",
    "        return True"
   ]
  },
  {
   "cell_type": "markdown",
   "id": "023293bf",
   "metadata": {},
   "source": [
    "You can still bamboozle this algorithm by putting `=A1+B1` and then `=C14+D37`. However, since the ordering of variables in translate is deterministic (and we used a tuple!), we can then check for equivalence of variables."
   ]
  },
  {
   "cell_type": "code",
   "execution_count": 37,
   "id": "a15ac6c3",
   "metadata": {},
   "outputs": [],
   "source": [
    "assert equivalent(parse('=A1+B1'), parse('=A2+B2'))"
   ]
  },
  {
   "cell_type": "code",
   "execution_count": 38,
   "id": "4d881a1e",
   "metadata": {},
   "outputs": [],
   "source": [
    "def consistent(these_vars, other_vars):\n",
    "    \"\"\"Checks if the tuples of variables are \"transposed\" across rows, returning the delta if so.\"\"\"\n",
    "    # Todo(Rik): deal with fixed rows/columns\n",
    "    # Yeahhh wouldn't I like an Option<i32> here...\n",
    "    if len(these_vars) != len(other_vars): return False\n",
    "    if any(v.column != w.column for v, w in zip(these_vars, other_vars)): return False\n",
    "    if len(set(v.row - w.row for v, w in zip(these_vars, other_vars))) != 1: return False\n",
    "    return these_vars[0].row - other_vars[0].row"
   ]
  },
  {
   "cell_type": "code",
   "execution_count": 39,
   "id": "b05f47fd",
   "metadata": {},
   "outputs": [],
   "source": [
    "tree, these_vars = translate(parse('=A1+B1'))\n",
    "other, other_vars = translate(parse('=A2+B2'))\n",
    "assert consistent(these_vars, other_vars) == -1\n",
    "\n",
    "tree, these_vars = translate(parse('=A1+B1'))\n",
    "other, other_vars = translate(parse('=A5+B5'))\n",
    "assert consistent(these_vars, other_vars) == -4\n",
    "\n",
    "tree, these_vars = translate(parse('=A3+B3'))\n",
    "other, other_vars = translate(parse('=A1+B1'))\n",
    "assert consistent(these_vars, other_vars) == 2\n",
    "\n",
    "tree, these_vars = translate(parse('=A1+B1'))\n",
    "other, other_vars = translate(parse('=A2+C3'))\n",
    "assert not consistent(these_vars, other_vars)\n",
    "\n",
    "tree, these_vars = translate(parse('=A1*B1'))\n",
    "other, other_vars = translate(parse('=A2+B2'))\n",
    "assert consistent(these_vars, other_vars)"
   ]
  },
  {
   "cell_type": "code",
   "execution_count": 40,
   "id": "3942cc40",
   "metadata": {},
   "outputs": [],
   "source": [
    "def is_copied_across(column):\n",
    "    head, *column = column\n",
    "    head_ast = parse(head)\n",
    "    head_code, head_vars = translate(head_ast)\n",
    "    for i, item in enumerate(column):\n",
    "        item_ast = parse(item)\n",
    "        if not equivalent(head_ast, item_ast): return False\n",
    "        _, item_vars = translate(item_ast)\n",
    "        if not consistent(item_vars, head_vars) == i+1: return False\n",
    "    return True"
   ]
  },
  {
   "cell_type": "code",
   "execution_count": 41,
   "id": "81731960",
   "metadata": {},
   "outputs": [],
   "source": [
    "assert is_copied_across(['=A1+B1', '=A2+B2'])\n",
    "assert not is_copied_across(['=A1+B1', '=A3+B3'])\n",
    "assert not is_copied_across(['=A1+B1', '=A2*B2'])\n",
    "assert is_copied_across(['=A1+B1', '=A2+B2', '=A3+B3'])\n",
    "assert not is_copied_across(['=A1+B1', '=A2+C3'])"
   ]
  },
  {
   "cell_type": "code",
   "execution_count": 42,
   "id": "6cf28239",
   "metadata": {},
   "outputs": [
    {
     "name": "stdout",
     "output_type": "stream",
     "text": [
      "def adder(A1, B1):\n",
      "  return A1 + B1\n"
     ]
    }
   ],
   "source": [
    "def write_function(name, code, variables):\n",
    "    variables = ', '.join(v.to_string() for v in variables)\n",
    "    return '\\n'.join([\n",
    "        f'def {name}({variables}):',\n",
    "        f'  return {code}'\n",
    "    ])\n",
    "\n",
    "row = [3, 4, '=A1+B1']\n",
    "code, these_vars = translate(parse(row[2]))\n",
    "print(write_function('adder', code, these_vars))"
   ]
  },
  {
   "cell_type": "code",
   "execution_count": 47,
   "id": "76de0a09",
   "metadata": {},
   "outputs": [
    {
     "name": "stdout",
     "output_type": "stream",
     "text": [
      "def calculate_D(A1, B1, C1):\n",
      "  return A1 + B1 * C1\n",
      "\n",
      "D = [calculate_D(A1, B1, C1) for A1, B1, C1 in [[3, 4, 7], [4, 5, 8]]]\n",
      "\n",
      "Result: [31, 44]\n"
     ]
    }
   ],
   "source": [
    "def column_to_code(colname, sheet):\n",
    "    colnum = colname_to_num(colname)\n",
    "\n",
    "    function_name = f'calculate_{colname}'\n",
    "\n",
    "    column_asts = [parse(item) for item in [row[colnum] for row in sheet]]\n",
    "    column_codes, column_vars = zip(*[translate(ast) for ast in column_asts])\n",
    "\n",
    "    head_ast, *tail_asts = column_asts\n",
    "    head_code, *tail_codes = column_codes\n",
    "    head_vars, *tail_vars = column_vars\n",
    "\n",
    "    for i, (other_ast, other_vars) in enumerate(zip(tail_asts, tail_vars)):\n",
    "        if not equivalent(head_ast, other_ast) or not consistent(other_vars, head_vars) == (i+1):\n",
    "            raise NotImplementedError('Inconsistent column formula in row {i}')\n",
    "\n",
    "    input_data = [[sheet[r.row][r.column] for r in variables] for variables in column_vars]\n",
    "    variable_text = ', '.join(var.to_string() for var in head_vars)\n",
    "\n",
    "    function_body = write_function(function_name, head_code, head_vars)\n",
    "    exec(function_body)\n",
    "    function = eval(function_name)\n",
    "    function_result = [function(*row) for row in input_data]\n",
    "    result = '\\n'.join([\n",
    "        function_body,\n",
    "        '',\n",
    "        f'{colname} = [{function_name}({variable_text}) for {variable_text} in {input_data}]',\n",
    "        f'\\nResult: {function_result}'\n",
    "    ])\n",
    "    return result\n",
    "\n",
    "sheet = [\n",
    "    [3, 4, 7, '=A1+B1*C1'],\n",
    "    [4, 5, 8, '=A2+B2*C2']\n",
    "]\n",
    "print(column_to_code('D', sheet))"
   ]
  },
  {
   "cell_type": "markdown",
   "id": "ad618395",
   "metadata": {},
   "source": [
    "Next, chaining functions. One cell = one line of code, I suppose. :)"
   ]
  },
  {
   "cell_type": "code",
   "execution_count": 91,
   "id": "052e4657",
   "metadata": {},
   "outputs": [
    {
     "data": {
      "text/plain": [
       "(deque(['D2 = A1 + D1', 'A1 + D2']),\n",
       " deque([Ref(row=0, column=0, fixed_row=False, fixed_column=False),\n",
       "        Ref(row=0, column=3, fixed_row=False, fixed_column=False)]))"
      ]
     },
     "execution_count": 91,
     "metadata": {},
     "output_type": "execute_result"
    }
   ],
   "source": [
    "from collections import deque\n",
    "\n",
    "def is_value(cell):\n",
    "    return not isinstance(cell, str) or not cell.startswith('=')\n",
    "\n",
    "\n",
    "def cell_to_code(ref, sheet):\n",
    "    code, variables = translate(parse(sheet[ref.row][ref.column]))\n",
    "    code = deque([code])\n",
    "    to_map = [r for r in variables if not is_value(sheet[r.row][r.column])]\n",
    "    \n",
    "    # Todo(Rik): circular reference protection. Requires maintaining a tree,\n",
    "    # rather than just a flat list. I.e. track the chain of things that\n",
    "    # led us to calculating this cell and see if it includes something\n",
    "    # this cell refers to.\n",
    "    done = {ref}\n",
    "    \n",
    "    variables = deque([r for r in variables if is_value(sheet[r.row][r.column])])\n",
    "    while to_map:\n",
    "        this_ref = to_map.pop()\n",
    "        this_varname = this_ref.to_string()\n",
    "        \n",
    "        if this_ref in done or this_ref in variables: continue\n",
    "\n",
    "        this_code, these_vars = translate(parse(sheet[this_ref.row][this_ref.column]))\n",
    "\n",
    "        variables.extend([r for r in these_vars if is_value(sheet[r.row][r.column]) and r not in variables])\n",
    "        to_map.extend([r for r in these_vars if not is_value(sheet[r.row][r.column]) and r not in to_map])\n",
    "\n",
    "        code.appendleft(f'{this_varname} = {this_code}')\n",
    "        done.add(this_ref)\n",
    "    return code, variables\n",
    "\n",
    "\n",
    "sheet = [\n",
    "    ['3', '4', '=A1+D2', '0'],\n",
    "    ['4', '5', '=A2+D3', '=A1+D1'],\n",
    "]\n",
    "\n",
    "code, variables = cell_to_code(Ref(row=0, column=2), sheet)\n",
    "code, variables"
   ]
  },
  {
   "cell_type": "code",
   "execution_count": 92,
   "id": "7731f3b9",
   "metadata": {},
   "outputs": [
    {
     "name": "stdout",
     "output_type": "stream",
     "text": [
      "def foo(A1, D1):\n",
      "    D2 = A1 + D1\n",
      "    return A1 + D2\n"
     ]
    }
   ],
   "source": [
    "def write_multiline_function(name, code, variables):\n",
    "    variables = ', '.join(v.to_string() for v in variables)\n",
    "    *lines, last = code\n",
    "    return '\\n'.join([\n",
    "        f'def {name}({variables}):'\n",
    "    ] + [f'    {line}' for line in lines] + [\n",
    "        f'    return {last}'\n",
    "    ])\n",
    "\n",
    "print(write_multiline_function('foo', code, variables))"
   ]
  },
  {
   "cell_type": "markdown",
   "id": "3560e4df",
   "metadata": {},
   "source": [
    "# Experiment with generating an AST rather than Python code directly"
   ]
  },
  {
   "cell_type": "code",
   "execution_count": 240,
   "id": "25073860",
   "metadata": {},
   "outputs": [
    {
     "name": "stdout",
     "output_type": "stream",
     "text": [
      "def foo(A1, D2):\n",
      "    return A1 + D2\n"
     ]
    }
   ],
   "source": [
    "import ast\n",
    "\n",
    "from collections import deque\n",
    "\n",
    "infix_translate_map = {\n",
    "    '\\\\+': ast.Add(),\n",
    "    '\\\\*': ast.Mult(),\n",
    "    '-': ast.Sub(),\n",
    "}\n",
    "\n",
    "prefix_translate_map = {}\n",
    "postfix_translate_map = {}\n",
    "\n",
    "# We save the variables in a tuple because it's convenient to use ordering\n",
    "# to compare formulas. If they have the same AST structure we can just check\n",
    "# them for consistency one by one.\n",
    "def translate(tree, variables=tuple()):  # Todo(Rik): str might translate to ref.\n",
    "    if isinstance(tree, (int, float, bool, str)):\n",
    "        return tree, variables\n",
    "    elif isinstance(tree, InfixOp) and tree.op == ':':\n",
    "        # Todo(Rik): handle ranges in formulas\n",
    "        raise NotImplemented\n",
    "    elif isinstance(tree, InfixOp):\n",
    "        t_left, var_left = translate(tree.left, variables)\n",
    "        t_right, var_right = translate(tree.right, variables)\n",
    "        return ast.BinOp(left=t_left, op=infix_translate_map[tree.op], right=t_right), var_left + var_right\n",
    "    elif isinstance(tree, PrefixOp):\n",
    "        t_arg, var_arg = translate(tree.arg, variables)\n",
    "        return prefix_translate_map[tree.op](t_arg), var_arg\n",
    "    elif isinstance(tree, PostfixOp):\n",
    "        t_arg, var_arg = translate(tree.arg, variables)\n",
    "        return postfix_translate_map[tree.op](t_arg), var_arg\n",
    "    elif isinstance(tree, Function):\n",
    "#         if tree.args is None: return function_translate_map[tree.name]()\n",
    "        t_args, var_args = translate(tree.args, variables)\n",
    "        if not isinstance(args, tuple): # Gymnastics to handle one-argument functions\n",
    "            t_args = (t_args,)\n",
    "        return function_translate_map[tree.name](t_args), var_args\n",
    "    elif isinstance(tree, Ref):  # Create and return variable name\n",
    "        return ast.Name(tree.to_string(), ctx=ast.Load()), variables + (tree,)\n",
    "\n",
    "def is_value(cell):\n",
    "    return not isinstance(cell, str) or not cell.startswith('=')\n",
    "\n",
    "\n",
    "def cell_to_code(ref, sheet):\n",
    "    code, variables = translate(parse(sheet[ref.row][ref.column]))\n",
    "    code = deque([ast.Return(code)])\n",
    "    to_map = [r for r in variables if not is_value(sheet[r.row][r.column])]\n",
    "    \n",
    "    # Todo(Rik): circular reference protection. Requires maintaining a tree,\n",
    "    # rather than just a flat list. I.e. track the chain of things that\n",
    "    # led us to calculating this cell and see if it includes something\n",
    "    # this cell refers to.\n",
    "    done = {ref}\n",
    "    \n",
    "    variables = deque([r for r in variables if is_value(sheet[r.row][r.column]) or r.row != ref.row])\n",
    "    while to_map:\n",
    "        this_ref = to_map.pop()\n",
    "        this_varname = this_ref.to_string()\n",
    "        \n",
    "        if this_ref in done or this_ref in variables: continue\n",
    "\n",
    "        this_code, these_vars = translate(parse(sheet[this_ref.row][this_ref.column]))\n",
    "\n",
    "        variables.extend([r for r in these_vars if is_value(sheet[r.row][r.column]) and r not in variables])\n",
    "        to_map.extend([r for r in these_vars if not is_value(sheet[r.row][r.column]) and r not in to_map])\n",
    "\n",
    "        code.appendleft(ast.Assign([ast.Name(this_varname, ast.Store())], this_code))\n",
    "        done.add(this_ref)\n",
    "    return code, variables\n",
    "\n",
    "sheet = [\n",
    "    ['3', '4', '=A1+D2', '0'],\n",
    "    ['4', '5', '=A2+D3', '=A1+D1'],\n",
    "]\n",
    "\n",
    "code, variables = cell_to_code(Ref(row=0, column=2), sheet)\n",
    "code, variables\n",
    "\n",
    "def to_function(code, variables, name):\n",
    "    ast_args = ast.arguments(\n",
    "        posonlyargs=[],\n",
    "        args=[ast.arg(v.to_string()) for v in variables],\n",
    "        kwonlyargs=[],\n",
    "        kw_defaults=[],\n",
    "        defaults=[],\n",
    "    )\n",
    "    ast_function = ast.FunctionDef(\n",
    "        name=name,\n",
    "        args=ast_args,\n",
    "        body=list(code),\n",
    "        decorator_list=[],\n",
    "    )\n",
    "    \n",
    "    return ast.fix_missing_locations(ast_function)\n",
    "\n",
    "code_obj = compile(ast.Module([to_function(code, variables, 'foo')], type_ignores=[]), '<ebb>', mode='exec')\n",
    "exec(code_obj)\n",
    "print(ast.unparse(top_level))"
   ]
  },
  {
   "cell_type": "markdown",
   "id": "afb7aa3b",
   "metadata": {},
   "source": [
    "That works pretty alright, though no circular reference protection yet. It can handle arbitrary references as long as they terminate. However, in the case that we have twelve-hundred rows of the same shape, we don't want to unpack them all."
   ]
  },
  {
   "cell_type": "code",
   "execution_count": 50,
   "id": "d2e578fa",
   "metadata": {},
   "outputs": [
    {
     "name": "stdout",
     "output_type": "stream",
     "text": [
      "def foo(A2, B2, A1, B1):\n",
      "    C1 = A1 + B1\n",
      "    return C1 + A2 + B2\n"
     ]
    }
   ],
   "source": [
    "sheet = [\n",
    "    ['3', '4', '=A1+B1'],\n",
    "    ['4', '5', '=C1+A2+B2'],\n",
    "]\n",
    "\n",
    "code, variables = cell_to_code(Ref(row=1, column=2), sheet)\n",
    "print(write_multiline_function('foo', code, variables))"
   ]
  },
  {
   "cell_type": "code",
   "execution_count": 51,
   "id": "4934cbf3",
   "metadata": {},
   "outputs": [
    {
     "name": "stdout",
     "output_type": "stream",
     "text": [
      "def foo(A1, D1):\n",
      "    D2 = A1 + D1\n",
      "    return A1 + D2\n"
     ]
    }
   ],
   "source": [
    "sheet = [\n",
    "    ['3', '4', '=A1+B1', '0'],\n",
    "    ['4', '5', '=A2+B2', '=D1+C2'],\n",
    "    ['7', '8', '=A3+B3', '=D2+C3'],\n",
    "    ['9', '0', '=A4+B4', '=D3+C4'],\n",
    "]\n",
    "\n",
    "# Should turn into something like this:\n",
    "def calculate_D(A2, B2, previous_D):\n",
    "    C2 = A2 + B2\n",
    "    return previous_D + C2\n",
    "\n",
    "# Essentially this just means stopping it short?\n",
    "# How to deal with counter-flow?\n",
    "sheet = [\n",
    "    ['3', '4', '=A1+D2', '0'],\n",
    "    ['4', '5', '=A2+D3', '=A1+D1'],\n",
    "]\n",
    "\n",
    "# This can be untangled as follows\n",
    "code, variables, = cell_to_code(Ref(row=0, column=2), sheet)\n",
    "print(write_multiline_function('foo', code, variables))\n",
    "\n",
    "# Let's not deal with this for now. I'm sure it's intellectually stimulating but\n",
    "# either it's a rat's nest, in which case don't bother, *or* there is only counterflow,\n",
    "# which is just normal flow but upside down and it's trivial."
   ]
  },
  {
   "cell_type": "markdown",
   "id": "1802a962",
   "metadata": {},
   "source": [
    "Now what is important here is not that you can just stop short, but how calculate values in code."
   ]
  },
  {
   "cell_type": "code",
   "execution_count": 52,
   "id": "815058aa",
   "metadata": {},
   "outputs": [
    {
     "data": {
      "text/plain": [
       "[7, 16]"
      ]
     },
     "execution_count": 52,
     "metadata": {},
     "output_type": "execute_result"
    }
   ],
   "source": [
    "def calculate_initial_D(A1, B1):\n",
    "    return A1 + B1\n",
    "\n",
    "def calculate_D(A2, B2, previous_D):\n",
    "    C2 = A2 + B2\n",
    "    return previous_D + C2\n",
    "\n",
    "head, *input_data = [[3, 4], [4, 5]]\n",
    "result = [calculate_initial_D(*head)]\n",
    "for A, B in input_data:\n",
    "    previous_D = result[-1]\n",
    "    result.append(calculate_D(A, B, previous_D))\n",
    "\n",
    "result"
   ]
  },
  {
   "cell_type": "markdown",
   "id": "bb1c4c55",
   "metadata": {},
   "source": [
    "So what about looking further back, something like?"
   ]
  },
  {
   "cell_type": "code",
   "execution_count": 53,
   "id": "0d84e5f7",
   "metadata": {},
   "outputs": [
    {
     "data": {
      "text/plain": [
       "[{'D': 7, 'E': 0}, {'D': 9, 'E': 27}, {'D': 15, 'E': 210}, {'D': 15, 'E': 270}]"
      ]
     },
     "execution_count": 53,
     "metadata": {},
     "output_type": "execute_result"
    }
   ],
   "source": [
    "sheet = [\n",
    "    [3, 4, 0, '=A1+B1', '=C1*D1'],\n",
    "    [4, 5, 3, '=A2+B2', '=C2*D2'],\n",
    "    [7, 8, 2, '=A3+B3', '=E1*C3*D3'],\n",
    "    [7, 8, 2, '=A4+B4', '=E2*C4*D4'],\n",
    "]\n",
    "output = []\n",
    "\n",
    "A, B, C = [3, 4, 0]\n",
    "D = A + B\n",
    "E = C * D\n",
    "output.append({'D': D, 'E': E})\n",
    "\n",
    "A, B, C = [4, 5, 3]\n",
    "D = A + B\n",
    "E = C * D\n",
    "output.append({'D': D, 'E': E})\n",
    "\n",
    "    \n",
    "# Second phase\n",
    "input_phase_1 = [[7, 8, 2], [7, 8, 2]]\n",
    "for i, (A, B, C) in enumerate(input_phase_1):\n",
    "    D = A + B\n",
    "    E = output[i]['D']*C*D\n",
    "    output.append({'D': D, 'E': E})\n",
    "\n",
    "output"
   ]
  },
  {
   "cell_type": "markdown",
   "id": "d20c9af9",
   "metadata": {},
   "source": [
    "In this case, we would expect some kind of \"start-up\" rows, and then an eventually stable set of cell formulas. Especially gnarly when there are two regimes."
   ]
  },
  {
   "cell_type": "code",
   "execution_count": 54,
   "id": "7d1d15a0",
   "metadata": {},
   "outputs": [
    {
     "data": {
      "text/plain": [
       "{2}"
      ]
     },
     "execution_count": 54,
     "metadata": {},
     "output_type": "execute_result"
    }
   ],
   "source": [
    "def find_transitions(column):\n",
    "    transitions = set()\n",
    "    previous_ast, *asts = [parse(cell) for cell in column]\n",
    "    for i, ast in enumerate(asts):\n",
    "        if not equivalent(ast, previous_ast):\n",
    "            previous_ast = ast\n",
    "            transitions.add(i+1)\n",
    "    return transitions\n",
    "\n",
    "column = ['=A1+B1', '=A2+B2', '=A3*B3', '=A4*B4']\n",
    "find_transitions(column) "
   ]
  },
  {
   "cell_type": "markdown",
   "id": "8433e33e",
   "metadata": {},
   "source": [
    "That routine will find cells that are copied across. Now we can extract the loop body (as separate from initialization)."
   ]
  },
  {
   "cell_type": "code",
   "execution_count": 55,
   "id": "ccb15edd",
   "metadata": {},
   "outputs": [
    {
     "data": {
      "text/plain": [
       "([(0, (3, 4, 7, 7)), (1, (4, 5, 8, 8)), (2, (0, 3, 2, 2))],\n",
       " [(3, ('=A1+B1', '=A2+B2', '=A3+B3', '=A4+B4')),\n",
       "  (4, ('=C1*D1', '=C2*D2', '=E1*C3*D3', '=E2*C4*D4'))])"
      ]
     },
     "execution_count": 55,
     "metadata": {},
     "output_type": "execute_result"
    }
   ],
   "source": [
    "sheet = [\n",
    "    [3, 4, 0, '=A1+B1', '=C1*D1'],\n",
    "    [4, 5, 3, '=A2+B2', '=C2*D2'],\n",
    "    [7, 8, 2, '=A3+B3', '=E1*C3*D3'],\n",
    "    [7, 8, 2, '=A4+B4', '=E2*C4*D4'],\n",
    "]\n",
    "\n",
    "value_cols = [(i, col) for i, col in enumerate(zip(*sheet)) if all(is_value(cell) for cell in col)]\n",
    "calc_cols = [(i, col) for i, col in enumerate(zip(*sheet)) if not all(is_value(cell) for cell in col)]\n",
    "value_cols, calc_cols"
   ]
  },
  {
   "cell_type": "code",
   "execution_count": 56,
   "id": "d223ff93",
   "metadata": {},
   "outputs": [
    {
     "data": {
      "text/plain": [
       "({1, 2, 3, 4, 5, 6}, {3: 4, 4: 5})"
      ]
     },
     "execution_count": 56,
     "metadata": {},
     "output_type": "execute_result"
    }
   ],
   "source": [
    "import operator as op\n",
    "\n",
    "def join_sets(sets):\n",
    "    return reduce(op.ior, sets, set())\n",
    "\n",
    "def join_dicts(dicts):\n",
    "    return reduce(lambda d, e: {**d, **e}, dicts, {})\n",
    "\n",
    "join_sets([{1, 2, 3}, {4, 5, 6}]), join_dicts([{3: 4}, {4: 5}])"
   ]
  },
  {
   "cell_type": "markdown",
   "id": "adf392b0",
   "metadata": {},
   "source": [
    "There's an implicit ordering here, or \"compatibleness\". Some kind of intersection operation where column 3 has no transition, but column 4 has one at index 2, so therefore we see a transition at index 2.\n",
    "\n",
    "In case we had something like `[[0, 1], [2, 3]]`, `[[0], [1, 2, 3]]`, we would have gotten transitions at 1 and 2. Overlapping transforms are not interesting."
   ]
  },
  {
   "cell_type": "code",
   "execution_count": null,
   "id": "eeb6a825",
   "metadata": {},
   "outputs": [],
   "source": []
  },
  {
   "cell_type": "code",
   "execution_count": 57,
   "id": "3ed12b03",
   "metadata": {},
   "outputs": [
    {
     "data": {
      "text/plain": [
       "[[3, 4, 0, '=A1+B1', '=C1*D1'],\n",
       " [4, 5, 3, '=A2+B2', '=C2*D2'],\n",
       " [7, 8, 2, '=A3+B3', '=E1*C3*D3'],\n",
       " [7, 8, 2, '=A4+B4', '=E2*C4*D4']]"
      ]
     },
     "execution_count": 57,
     "metadata": {},
     "output_type": "execute_result"
    }
   ],
   "source": [
    "sheet"
   ]
  },
  {
   "cell_type": "code",
   "execution_count": 268,
   "id": "481b6895",
   "metadata": {},
   "outputs": [
    {
     "data": {
      "text/plain": [
       "[(deque(['D1 = <ast.BinOp object at 0x7fb76cb28e80>',\n",
       "         <ast.BinOp at 0x7fb76cb28d60>]),\n",
       "  deque([Ref(row=0, column=2, fixed_row=False, fixed_column=False),\n",
       "         Ref(row=0, column=0, fixed_row=False, fixed_column=False),\n",
       "         Ref(row=0, column=1, fixed_row=False, fixed_column=False)])),\n",
       " (deque(['D3 = <ast.BinOp object at 0x7fb76cb28850>',\n",
       "         <ast.BinOp at 0x7fb76cb288e0>]),\n",
       "  deque([Ref(row=0, column=4, fixed_row=False, fixed_column=False),\n",
       "         Ref(row=2, column=2, fixed_row=False, fixed_column=False),\n",
       "         Ref(row=2, column=0, fixed_row=False, fixed_column=False),\n",
       "         Ref(row=2, column=1, fixed_row=False, fixed_column=False)]))]"
      ]
     },
     "execution_count": 268,
     "metadata": {},
     "output_type": "execute_result"
    }
   ],
   "source": [
    "def cell_to_row_code(ref, sheet):\n",
    "    code, variables = translate(parse(sheet[ref.row][ref.column]))\n",
    "    code = deque([code])\n",
    "    to_map = [r for r in variables if not is_value(sheet[r.row][r.column])]\n",
    "    \n",
    "    # Todo(Rik): circular reference protection. Requires maintaining a tree,\n",
    "    # rather than just a flat list. I.e. track the chain of things that\n",
    "    # led us to calculating this cell and see if it includes something\n",
    "    # this cell refers to.\n",
    "    done = {ref}\n",
    "    \n",
    "    variables = deque([r for r in variables if is_value(sheet[r.row][r.column]) or r.row != ref.row])\n",
    "    while to_map:\n",
    "        this_ref = to_map.pop()\n",
    "        this_varname = this_ref.to_string()\n",
    "        \n",
    "        if this_ref in done or this_ref in variables: continue\n",
    "\n",
    "        this_code, these_vars = translate(parse(sheet[this_ref.row][this_ref.column]))\n",
    "\n",
    "        variables.extend([r for r in these_vars if is_value(sheet[r.row][r.column]) and r not in variables])\n",
    "        to_map.extend([r for r in these_vars if not is_value(sheet[r.row][r.column]) and r not in to_map])\n",
    "\n",
    "        code.appendleft(f'{this_varname} = {this_code}')\n",
    "        done.add(this_ref)\n",
    "    return code, variables\n",
    "\n",
    "colnum = 4\n",
    "sheet = [\n",
    "    [3, 4, 0, '=A1+B1', '=C1*D1'],\n",
    "    [4, 5, 3, '=A2+B2', '=C2*D2'],\n",
    "    [7, 8, 2, '=A3+B3', '=E1*C3*D3'],\n",
    "    [7, 8, 2, '=A4+B4', '=E2*C4*D4'],\n",
    "]\n",
    "\n",
    "value_cols = [(i, col) for i, col in enumerate(zip(*sheet)) if all(is_value(cell) for cell in col)]\n",
    "calc_cols = [(i, col) for i, col in enumerate(zip(*sheet)) if not all(is_value(cell) for cell in col)]\n",
    "transitions = list(join_sets([find_transitions(col) for _, col in calc_cols]))\n",
    "code_and_variables = [cell_to_row_code(Ref(row=start, column=colnum), sheet) for start in [0]+transitions]\n",
    "code_and_variables"
   ]
  },
  {
   "cell_type": "code",
   "execution_count": 59,
   "id": "4696211a",
   "metadata": {},
   "outputs": [
    {
     "data": {
      "text/plain": [
       "[(3, ('=A1+B1', '=A2+B2', '=A3+B3', '=A4+B4')),\n",
       " (4, ('=C1*D1', '=C2*D2', '=E1*C3*D3', '=E2*C4*D4'))]"
      ]
     },
     "execution_count": 59,
     "metadata": {},
     "output_type": "execute_result"
    }
   ],
   "source": [
    "calc_cols"
   ]
  },
  {
   "cell_type": "code",
   "execution_count": 283,
   "id": "e8db1ba1",
   "metadata": {},
   "outputs": [
    {
     "name": "stdout",
     "output_type": "stream",
     "text": [
      "output = []\n",
      "\n",
      "def calculate_D0(A1, B1):\n",
      "    return A1 + B1\n",
      "\n",
      "def calculate_E0(C1, A1, B1):\n",
      "    D1 = A1 + B1\n",
      "    return C1 * D1\n",
      "for (C1, A1, B1) in [[0, 3, 4], [3, 4, 5]]:\n",
      "    D1 = calculate_D0(A1, B1)\n",
      "    E1 = calculate_E0(C1, A1, B1)\n",
      "output.append([A1, B1, C1, D1, E1])\n",
      "\n",
      "def calculate_D2(A3, B3):\n",
      "    return A3 + B3\n",
      "\n",
      "def calculate_E2(E1, C3, A3, B3):\n",
      "    D3 = A3 + B3\n",
      "    return E1 * (C3 * D3)\n",
      "for (C3, A3, B3) in [[2, 7, 8], [2, 7, 8]]:\n",
      "    E1 = output[-2][4]\n",
      "    D3 = calculate_D2(A3, B3)\n",
      "    E3 = calculate_E2(E1, C3, A3, B3)\n",
      "output.append([A3, B3, C3, D3, E3])\n"
     ]
    }
   ],
   "source": [
    "def sheet_to_code(sheet):\n",
    "    value_cols = [(i, col) for i, col in enumerate(zip(*sheet)) if all(is_value(cell) for cell in col)]\n",
    "    calc_cols = [(i, col) for i, col in enumerate(zip(*sheet)) if not all(is_value(cell) for cell in col)]\n",
    "    transitions = list(join_sets([find_transitions(col) for _, col in calc_cols]))\n",
    "    block_ranges = list(zip([0]+transitions, transitions+[len(sheet)]))\n",
    "    blocks = [sheet[start:end] for start, end in block_ranges]\n",
    "\n",
    "    result = [ast.Assign([ast.Name('output', ast.Store())], ast.Constant([]))]\n",
    "    for start, end in block_ranges:\n",
    "        to_calc = []\n",
    "        for colnum, _ in calc_cols:\n",
    "            colname = num_to_colname(colnum)\n",
    "            function_name = f'calculate_{colname}{start}'\n",
    "            code, variables = cell_to_code(Ref(row=start, column=colnum), sheet)\n",
    "\n",
    "            to_calc.append((colname, function_name, variables))\n",
    "            result.append(to_function(code, variables, function_name))\n",
    "\n",
    "            \n",
    "        loop_body = []\n",
    "        # Assign non-local variables, if any\n",
    "        loop_body.extend([\n",
    "            ast.parse(f'{v.to_string()} = output[-{start-v.row}][{v.column}]')\n",
    "            for v in variables if v.row != start\n",
    "        ])\n",
    "\n",
    "        # Calculate results which determined we needed to calculate\n",
    "        for colname, function_name, variables in to_calc:\n",
    "            loop_body.append(ast.Assign(\n",
    "                [ast.Name(f'{colname}{start+1}', ast.Store())],\n",
    "                ast.Call(\n",
    "                    ast.Name(function_name, ast.Load()),\n",
    "                    [ast.Name(v.to_string(), ast.Load()) for v in variables],\n",
    "                    [],\n",
    "                )\n",
    "            ))\n",
    "            \n",
    "        # Write stuff pre-loop body\n",
    "        result.append(\n",
    "            ast.For(\n",
    "                ast.Tuple([ast.Name(v.to_string(), ast.Store()) for v in variables if v.row == start], ast.Store()),\n",
    "                ast.Constant([[row[v.column] for v in variables if v.row==start] for row in sheet[start:end]]),\n",
    "                loop_body,\n",
    "                []\n",
    "            )\n",
    "        )\n",
    "\n",
    "        \n",
    "\n",
    "        # Add to ouptut\n",
    "        sorted_columns = ', '.join([f'{num_to_colname(i)}{start+1}' for i in range(len(sheet[start]))])\n",
    "        result.append(ast.parse(f'output.append([{sorted_columns}])'))\n",
    "    return result\n",
    "\n",
    "sheet = [\n",
    "    [3, 4, 0, '=A1+B1', '=C1*D1'],\n",
    "    [4, 5, 3, '=A2+B2', '=C2*D2'],\n",
    "    [7, 8, 2, '=A3+B3', '=E1*C3*D3'],\n",
    "    [7, 8, 2, '=A4+B4', '=E2*C4*D4'],\n",
    "]\n",
    "full_ast = ast.fix_missing_locations(ast.Module(sheet_to_code(sheet), type_ignores=[]))\n",
    "print(ast.unparse(full_ast))"
   ]
  },
  {
   "cell_type": "markdown",
   "id": "d59e1e9d",
   "metadata": {},
   "source": [
    "# Making a small demo\n",
    "Leverage ipydatagrid (from Bloomberg) to show a small demo with a sheet on the left and code on the right. Next up probably for loops. :)\n",
    "\n",
    "Also could think about a backwards connection, i.e. editing the python code and updating the Excel sheet as necessary. What to do when putting a new line though... Something to think about.\n",
    "\n",
    "For now though, I think continuing the row-interpretation work and making it go in the demo might be good!"
   ]
  },
  {
   "cell_type": "code",
   "execution_count": 234,
   "id": "28376d14",
   "metadata": {},
   "outputs": [],
   "source": [
    "sheet = [\n",
    "    [3, 4, 0, '=A1+B1', '=C1*D1'],\n",
    "    [4, 5, 3, '=A2+B2', '=C2*D2'],\n",
    "    [7, 8, 2, '=A3+B3', '=E1*C3*D3'],\n",
    "    [7, 8, 2, '=A4+B4', '=E2*C4*D4'],\n",
    "]\n",
    "\n",
    "sheet = [[2, 3, 4, '=A1*B1+C1']]"
   ]
  },
  {
   "cell_type": "code",
   "execution_count": 235,
   "id": "2cb14162",
   "metadata": {},
   "outputs": [
    {
     "data": {
      "application/vnd.jupyter.widget-view+json": {
       "model_id": "64650007329445e1bb1c13d240373294",
       "version_major": 2,
       "version_minor": 0
      },
      "text/plain": [
       "Box(children=(DataGrid(auto_fit_params={'area': 'all', 'padding': 30, 'numCols': None}, base_column_size=128, …"
      ]
     },
     "metadata": {},
     "output_type": "display_data"
    }
   ],
   "source": [
    "from ipydatagrid import DataGrid\n",
    "import ipywidgets as widgets\n",
    "import pandas as pd\n",
    "\n",
    "datagrid = DataGrid(pd.DataFrame(sheet), editable=True, base_column_size=128, base_row_size=30,\n",
    "                    layout={'height': '200px', 'width': '600px'})\n",
    "code_output = widgets.Output(layout={'border': '1px solid black'})\n",
    "\n",
    "def update_df(cell):\n",
    "    sheet[cell['row']][cell['column']] = cell['value']\n",
    "    with code_output:\n",
    "        code_output.clear_output()        \n",
    "        update_code(sheet)\n",
    "    \n",
    "def update_code(sheet):\n",
    "    code = sheet_to_code(sheet)\n",
    "    print(code)\n",
    "    exec(code)\n",
    "    print(f'Value of output: {eval(\"output\")}')\n",
    "        \n",
    "    \n",
    "datagrid.on_cell_change(update_df)\n",
    "with code_output:\n",
    "    update_code(sheet)\n",
    "    \n",
    "widgets.Box(children=[datagrid, code_output])"
   ]
  },
  {
   "cell_type": "code",
   "execution_count": null,
   "id": "1cdce36a",
   "metadata": {},
   "outputs": [],
   "source": [
    "x"
   ]
  }
 ],
 "metadata": {
  "kernelspec": {
   "display_name": "Python 3 (ipykernel)",
   "language": "python",
   "name": "python3"
  },
  "language_info": {
   "codemirror_mode": {
    "name": "ipython",
    "version": 3
   },
   "file_extension": ".py",
   "mimetype": "text/x-python",
   "name": "python",
   "nbconvert_exporter": "python",
   "pygments_lexer": "ipython3",
   "version": "3.9.7"
  }
 },
 "nbformat": 4,
 "nbformat_minor": 5
}
