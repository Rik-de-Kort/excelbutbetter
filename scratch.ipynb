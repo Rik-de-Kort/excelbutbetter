{
 "cells": [
  {
   "cell_type": "code",
   "execution_count": 9,
   "id": "471025a5",
   "metadata": {},
   "outputs": [
    {
     "name": "stderr",
     "output_type": "stream",
     "text": [
      "100%|████████████████████████████████████████████████████████████████████████████████████████████████████████████████| 100/100 [00:32<00:00,  3.04it/s]\n"
     ]
    }
   ],
   "source": [
    "from py_proto import indexed_to_array, array_to_indexed\n",
    "from hypothesis import strategies as st\n",
    "from tqdm import tqdm\n",
    "\n",
    "positive_ints = st.integers(min_value=0)\n",
    "strat = st.lists(st.tuples(positive_ints, positive_ints, st.text(min_size=1)), unique_by=lambda t: (t[0], t[1]))\n",
    "ex = strat.example()\n",
    "for k in tqdm(range(100)):\n",
    "    test_indexed_to_array_roundtrip([(598330, 0, '0')])"
   ]
  },
  {
   "cell_type": "code",
   "execution_count": 5,
   "id": "ba8180b3",
   "metadata": {},
   "outputs": [],
   "source": [
    "def test_indexed_to_array_roundtrip(a):\n",
    "    assert array_to_indexed(indexed_to_array(a)) == a\n",
    "\n",
    "def test_indexed_to_array():\n",
    "    # Base case\n",
    "    assert indexed_to_array([(0, 0, 'foo'), (0, 1, 'bar'), (1, 0, 'baz'), (1, 1, 'boo')]) == [['foo', 'bar'], ['baz', 'boo']]\n",
    "\n",
    "    # Empty rows and cells\n",
    "    assert indexed_to_array([(1, 3, 'foo')]) == [[], ['', '', '', 'foo']]\n"
   ]
  },
  {
   "cell_type": "code",
   "execution_count": 18,
   "id": "c8a71235",
   "metadata": {},
   "outputs": [
    {
     "data": {
      "text/plain": [
       "[(667543157311909643, 15173, '%ᒾ'), (24, 26760, 'Öæ\\U000dea75_')]"
      ]
     },
     "execution_count": 18,
     "metadata": {},
     "output_type": "execute_result"
    }
   ],
   "source": [
    "strat.example()"
   ]
  },
  {
   "cell_type": "code",
   "execution_count": 5,
   "id": "e27f16f3",
   "metadata": {},
   "outputs": [],
   "source": [
    "from contextlib import contextmanager\n",
    "import sqlite3\n",
    "from datetime import datetime\n",
    "from uuid import uuid4\n",
    "import os\n",
    "\n",
    "@contextmanager\n",
    "def tmp_db():\n",
    "  tmp_db_name = f'{uuid4()}.sqlite'\n",
    "  conn = sqlite3.connect(tmp_db_name, detect_types=sqlite3.PARSE_DECLTYPES)\n",
    "  c = conn.cursor()\n",
    "  c.execute('create table test (row integer, column integer, value text, valid_from timestamp, valid_to timestamp)')\n",
    "  now = datetime.now()\n",
    "\n",
    "  data = [(0, 0, 'foo', now, datetime.max), (0, 1, 'bar', now, datetime.max),\n",
    "          (1, 0, 'baz', now, datetime.max), (1, 1, 'boo', now, datetime.max)]\n",
    "  c.executemany('insert into test values (?, ?, ?, ?, ?)', data)\n",
    "  conn.commit()\n",
    "  yield tmp_db_name\n",
    "  os.unlink(tmp_db_name)"
   ]
  },
  {
   "cell_type": "code",
   "execution_count": 8,
   "id": "152d0d80",
   "metadata": {},
   "outputs": [
    {
     "name": "stdout",
     "output_type": "stream",
     "text": [
      "[(0, 0, 'foo', datetime.datetime(2021, 7, 15, 21, 51, 54, 147965), datetime.datetime(9999, 12, 31, 23, 59, 59, 999999)), (0, 1, 'bar', datetime.datetime(2021, 7, 15, 21, 51, 54, 147965), datetime.datetime(9999, 12, 31, 23, 59, 59, 999999)), (1, 0, 'baz', datetime.datetime(2021, 7, 15, 21, 51, 54, 147965), datetime.datetime(9999, 12, 31, 23, 59, 59, 999999)), (1, 1, 'boo', datetime.datetime(2021, 7, 15, 21, 51, 54, 147965), datetime.datetime(9999, 12, 31, 23, 59, 59, 999999))]\n"
     ]
    }
   ],
   "source": [
    "with tmp_db() as conn:\n",
    "    print(conn.execute('select * from test where ? between valid_from and valid_to', (datetime.now(),)).fetchall())"
   ]
  },
  {
   "cell_type": "code",
   "execution_count": 3,
   "id": "7d84b8ba",
   "metadata": {},
   "outputs": [
    {
     "name": "stdout",
     "output_type": "stream",
     "text": [
      "No js module found, not running main scripts.\n"
     ]
    },
    {
     "data": {
      "text/plain": [
       "16357"
      ]
     },
     "execution_count": 3,
     "metadata": {},
     "output_type": "execute_result"
    }
   ],
   "source": [
    "from py_proto import colname_to_num\n",
    "\n",
    "colname_to_num('XFD')"
   ]
  },
  {
   "cell_type": "code",
   "execution_count": null,
   "id": "a831af95",
   "metadata": {},
   "outputs": [],
   "source": []
  }
 ],
 "metadata": {
  "kernelspec": {
   "display_name": "Python 3 (ipykernel)",
   "language": "python",
   "name": "python3"
  },
  "language_info": {
   "codemirror_mode": {
    "name": "ipython",
    "version": 3
   },
   "file_extension": ".py",
   "mimetype": "text/x-python",
   "name": "python",
   "nbconvert_exporter": "python",
   "pygments_lexer": "ipython3",
   "version": "3.9.4"
  }
 },
 "nbformat": 4,
 "nbformat_minor": 5
}
