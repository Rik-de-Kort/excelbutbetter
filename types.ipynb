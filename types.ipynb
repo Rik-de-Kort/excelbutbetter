{
 "cells": [
  {
   "cell_type": "code",
   "execution_count": null,
   "id": "77a7a898",
   "metadata": {},
   "outputs": [],
   "source": [
    "#default_exp types"
   ]
  },
  {
   "cell_type": "markdown",
   "id": "22e88c73",
   "metadata": {},
   "source": [
    "# Types\n",
    "> PyFrames are plain-Python-compatible tabular data. Every entry is a Python object. The canonical form for a PyFrame is a list of records.\n",
    "> Refs and Ranges, and operators are used to determine stuff"
   ]
  },
  {
   "cell_type": "code",
   "execution_count": 1,
   "id": "8eec52b5",
   "metadata": {},
   "outputs": [],
   "source": [
    "#export\n",
    "from typing import List, Dict, Any\n",
    "from collections import defaultdict\n",
    "\n",
    "class PyFrame:\n",
    "    def __init__(self, rows: List[Dict[str, Any]]):\n",
    "        assert len(set(tuple(r.keys()) for r in rows)) == 1, 'Mismatched row keys or empty data.'\n",
    "        self.data = rows\n",
    "\n",
    "    def __getitem__(self, index):\n",
    "        row, col = index\n",
    "        return self.data[row][col]\n",
    "    def __setitem__(self, index, value):\n",
    "        row, col = index\n",
    "        self.data[row][col] = value\n",
    "        \n",
    "    @property\n",
    "    def columns(self):\n",
    "        return self.data[0].keys()\n",
    "    \n",
    "    @property\n",
    "    def col(self):\n",
    "        class ColIndexer:\n",
    "            def __getitem__(self_idx, idx):\n",
    "                return [r[idx] for r in self]\n",
    "            \n",
    "            def __setitem__(self_idx, idx, value):\n",
    "                assert len(value) == len(self.data), f'length of values to set should be {len(self.data)}'\n",
    "                for r, v in zip(self, value):\n",
    "                    r[idx] = v\n",
    "        return ColIndexer()\n",
    "    \n",
    "    @property\n",
    "    def cols(self):\n",
    "        class MultipleColumnsIndexer:\n",
    "            def __getitem__(self_idx, indices):\n",
    "                return [{col: r[col] for col in indices} for r in self]\n",
    "        return MultipleColumnsIndexer()\n",
    "            \n",
    "    @property\n",
    "    def row(self):\n",
    "        class RowIndexer:\n",
    "            def __getitem__(self_idx, idx):\n",
    "                return self.data[idx]\n",
    "            \n",
    "            def __setitem__(self_idx, idx, value):\n",
    "                assert not (missing := self.data[0].keys() - value.keys()), f'{missing} not in value to be set'\n",
    "                self.data[idx] = value\n",
    "        return RowIndexer()\n",
    "    \n",
    "    @property\n",
    "    def rows(self):\n",
    "        class MultipleRowsIndexer:\n",
    "            def __getitem__(self_idx, indices):\n",
    "                return {idx: self.data[idx] for idx in indices}\n",
    "        return MultipleRowsIndexer()\n",
    "        \n",
    "    def __getattr__(self, name):\n",
    "        return getattr(self.data, name)\n",
    "    \n",
    "    def __iter__(self):\n",
    "        return iter(self.data)\n",
    "        \n",
    "    def __len__(self):\n",
    "        return len(self.data)\n",
    "    \n",
    "    def __repr__(self):\n",
    "        return repr(self.data)\n",
    "    \n",
    "    @classmethod\n",
    "    def from_record_of_lists(cls, record: Dict[str, List]):\n",
    "        assert len(set(len(v) for v in record.values())) == 1, 'Mismatched list lengths.'\n",
    "        return cls([dict(zip(record.keys(), v)) for v in zip(*record.values())])\n",
    "    \n",
    "    @classmethod\n",
    "    def from_list_of_rows(cls, rows: List[List], header: List[str]):\n",
    "        assert set(len(row) for row in rows) == {len(header)}, 'Mismatched list lengths.'\n",
    "        return cls([dict(zip(header, row)) for row in rows])\n",
    "    \n",
    "    def set_index(self, idx):\n",
    "        if isinstance(idx, str):\n",
    "            assert idx in self.data[0].keys(), f'{idx} not in data'\n",
    "            data = {r[idx]: r for r in self.data}\n",
    "        else:\n",
    "            assert not (missing_keys := (set(idx) - self.data[0].keys())), f'{missing_keys} not in data'\n",
    "            data = {r[tuple(col for col in idx)]: r for r in self.data}\n",
    "        return IndexedPyFrame(data)\n",
    "    \n",
    "    def collect_index(self, idx):\n",
    "        data = defaultdict(lambda: [])\n",
    "        if isinstance(colnames, str):\n",
    "            assert idx in self.data[0].keys(), f'{idx} not in data'\n",
    "            for r in self:\n",
    "                data[r[idx]].append(r)\n",
    "        else:\n",
    "            assert not (missing_keys := (set(idx) - self.data[0].keys())), f'{missing_keys} not in data'\n",
    "            for r in self:\n",
    "                data[r(tuple(r[col] for col in idx))].append(r)\n",
    "        return IndexedPyFrame(data)\n",
    "    \n",
    "\n",
    "class IndexedPyFrame:\n",
    "    def __init__(self, rows: Dict[Any, List[Dict[str, Any]]]):\n",
    "        assert len(set(tuple(r.keys()) for r in rows.values())) == 1, 'Mismatched row keys.'\n",
    "        self.data = rows\n",
    "\n",
    "    def __getitem__(self, index):\n",
    "        row, col = index\n",
    "        return self.data[row][col]\n",
    "    \n",
    "    @property\n",
    "    def columns(self):\n",
    "        return self.data[0].keys()\n",
    "    \n",
    "    @property\n",
    "    def col(self):\n",
    "        class ColIndexer:\n",
    "            def __getitem__(self_idx, idx):\n",
    "                return {k: r[idx] for k, r in self.items()}\n",
    "            \n",
    "            def __setitem__(self_idx, idx, value):\n",
    "                assert len(value) == len(self.data), f'length of values to set should be {len(self.data)}'\n",
    "                assert not (missing := value.keys() - self.data.keys()), f'{missing} not in index'\n",
    "                for k, v in value.items():\n",
    "                    self.data[k][idx] = v\n",
    "        return ColIndexer()\n",
    "    \n",
    "    @property\n",
    "    def cols(self):\n",
    "        class MultipleColumnsIndexer:\n",
    "            def __getitem__(self_idx, indices):\n",
    "                return [{k: {col: r[col] for col in indices}} for k, r in self.items()]\n",
    "        return MultipleColumnsIndexer()\n",
    "            \n",
    "    @property\n",
    "    def row(self):\n",
    "        class RowIndexer:\n",
    "            def __getitem__(self_idx, idx):\n",
    "                return self.data[idx]\n",
    "            \n",
    "            def __setitem__(self_idx, idx, value):\n",
    "                assert not (missing := self.data[0].keys() - value.keys()), f'{missing} not in value to be set'\n",
    "                self.data[idx] = value\n",
    "        return RowIndexer()\n",
    "    \n",
    "    @property\n",
    "    def rows(self):\n",
    "        class MultipleRowsIndexer:\n",
    "            def __getitem__(self_idx, indices):\n",
    "                return {idx: self.data[idx] for idx in indices}\n",
    "        return MultipleRowsIndexer()\n",
    "        \n",
    "    def __getattr__(self, name):\n",
    "        return getattr(self.data, name)\n",
    "    \n",
    "    def __iter__(self):\n",
    "        return iter(self.data)\n",
    "        \n",
    "    def __len__(self):\n",
    "        return len(self.data)\n",
    "    \n",
    "    def __repr__(self):\n",
    "        return repr(self.data)"
   ]
  },
  {
   "cell_type": "code",
   "execution_count": null,
   "id": "e91b7f50",
   "metadata": {},
   "outputs": [
    {
     "data": {
      "text/plain": [
       "[{'a': 0, 'b': 3}, {'a': 1, 'b': 4}, {'a': 2, 'b': 5}]"
      ]
     },
     "execution_count": null,
     "metadata": {},
     "output_type": "execute_result"
    }
   ],
   "source": [
    "f = PyFrame.from_record_of_lists({'a': [0, 1, 2], 'b': [3, 4, 5]})\n",
    "f"
   ]
  },
  {
   "cell_type": "code",
   "execution_count": null,
   "id": "1fb2e90b",
   "metadata": {},
   "outputs": [
    {
     "data": {
      "text/plain": [
       "{1: {'a': 1, 'b': 4}, 2: {'a': 2, 'b': 5}}"
      ]
     },
     "execution_count": null,
     "metadata": {},
     "output_type": "execute_result"
    }
   ],
   "source": [
    "f.rows[(1, 2)]"
   ]
  },
  {
   "cell_type": "code",
   "execution_count": null,
   "id": "763123a1",
   "metadata": {},
   "outputs": [
    {
     "name": "stdout",
     "output_type": "stream",
     "text": [
      "{'a': 0, 'b': 3}\n",
      "{'a': 1, 'b': 4}\n",
      "{'a': 2, 'b': 5}\n"
     ]
    }
   ],
   "source": [
    "for r in f:\n",
    "    print(r)"
   ]
  },
  {
   "cell_type": "code",
   "execution_count": null,
   "id": "6c2697fc",
   "metadata": {},
   "outputs": [
    {
     "data": {
      "text/plain": [
       "3"
      ]
     },
     "execution_count": null,
     "metadata": {},
     "output_type": "execute_result"
    }
   ],
   "source": [
    "len(f)"
   ]
  },
  {
   "cell_type": "code",
   "execution_count": null,
   "id": "9269e250",
   "metadata": {},
   "outputs": [],
   "source": [
    "f_i = f.set_index('b')"
   ]
  },
  {
   "cell_type": "code",
   "execution_count": null,
   "id": "8db11e2f",
   "metadata": {},
   "outputs": [
    {
     "data": {
      "text/plain": [
       "{3: {'a': 0, 'b': 3}, 4: {'a': 1, 'b': 4}}"
      ]
     },
     "execution_count": null,
     "metadata": {},
     "output_type": "execute_result"
    }
   ],
   "source": [
    "f_i.rows[(3, 4)]"
   ]
  },
  {
   "cell_type": "code",
   "execution_count": null,
   "id": "d5be72fb",
   "metadata": {},
   "outputs": [],
   "source": [
    "f.col['c'] = [7, 8, 9]"
   ]
  },
  {
   "cell_type": "code",
   "execution_count": null,
   "id": "b231e95a",
   "metadata": {},
   "outputs": [
    {
     "data": {
      "text/plain": [
       "[{'a': 0, 'b': 3, 'c': 7}, {'a': 1, 'b': 4, 'c': 8}, {'a': 2, 'b': 5, 'c': 9}]"
      ]
     },
     "execution_count": null,
     "metadata": {},
     "output_type": "execute_result"
    }
   ],
   "source": [
    "f"
   ]
  },
  {
   "cell_type": "markdown",
   "id": "6f2bc8d3",
   "metadata": {},
   "source": [
    "# Parsing types"
   ]
  },
  {
   "cell_type": "code",
   "execution_count": null,
   "id": "05f009c2",
   "metadata": {},
   "outputs": [],
   "source": [
    "#export\n",
    "class ParseError(ValueError): pass"
   ]
  },
  {
   "cell_type": "code",
   "execution_count": null,
   "id": "44063cd0",
   "metadata": {},
   "outputs": [],
   "source": [
    "#export\n",
    "import re\n",
    "from ebb.util import colname_to_num, num_to_colname\n",
    "from collections import namedtuple\n",
    "\n",
    "re_ref = re.compile('^(?P<cfix>\\$)?(?P<col>[A-Z]+)(?P<rfix>\\$)?(?P<row>[1-9][0-9]*)$')\n",
    "\n",
    "# Todo(Rik): Maybe worried about negative rows/cols? Input validation?\n",
    "class Ref:\n",
    "    def __init__(self, row, column, fixed_row=False, fixed_column=False):\n",
    "        self.row, self.column = row, column\n",
    "        self.fixed_row, self.fixed_column = fixed_row, fixed_column\n",
    "        \n",
    "    def __eq__(self, other):\n",
    "        return self.__dict__ == other.__dict__\n",
    "    \n",
    "    def __hash__(self):\n",
    "        return self.to_string().__hash__()\n",
    "    \n",
    "    def __repr__(self):\n",
    "        return self.to_string()\n",
    "        return f'Ref(row={self.row}, column={self.column}, fixed_row={self.fixed_row}, fixed_column={self.fixed_column})'\n",
    "\n",
    "    @classmethod\n",
    "    def from_string(cls, s):\n",
    "        m = re_ref.match(s)\n",
    "        if not m: raise ParseError(f'{s} is not a reference')\n",
    "        row, fixed_row = int(m['row'])-1, bool(m['rfix'])\n",
    "        column, fixed_column = m['col'], bool(m['cfix'])\n",
    "        assert row >= 0\n",
    "        return cls(row, column, fixed_row, fixed_column)\n",
    "    \n",
    "    def to_string(self):\n",
    "        col = f'{\"$\" if self.fixed_column else \"\"}{self.column}'\n",
    "        row = f'{\"$\" if self.fixed_column else \"\"}{self.row+1}'\n",
    "        return col+row\n",
    "\n",
    "InfixOp = namedtuple('InfixOp', ['op', 'left', 'right'])\n",
    "PrefixOp = namedtuple('PrefixOp', ['op', 'arg'])\n",
    "PostfixOp = namedtuple('PostfixOp', ['op', 'arg'])\n",
    "# We write operators in precedence order\n",
    "operators = {\n",
    "    # Todo(Rik): support for intersection op (which idiot ever thought that should be a space)\n",
    "    ':': InfixOp, # ' ': InfixOp\n",
    "    '-': PrefixOp, '%': PostfixOp, r'\\^': InfixOp,\n",
    "    r'\\*': InfixOp, '/': InfixOp, r'\\+': InfixOp,\n",
    "    '-': InfixOp, r'\\&': InfixOp, '=': InfixOp,\n",
    "    '<': InfixOp, '>': InfixOp, '<=': InfixOp,\n",
    "    '>=': InfixOp, '<>': InfixOp, ',': InfixOp, \n",
    "}\n",
    "\n",
    "Function = namedtuple('Function', ['name', 'args'])"
   ]
  },
  {
   "cell_type": "code",
   "execution_count": null,
   "id": "33d258c7",
   "metadata": {},
   "outputs": [],
   "source": [
    "import pytest\n",
    "\n",
    "with pytest.raises(ParseError):\n",
    "    Ref.from_string('foo')\n",
    "with pytest.raises(ParseError):\n",
    "    Ref.from_string('A0')\n",
    "assert Ref.from_string('A4') == Ref(3, 0, fixed_row=False, fixed_column=False)\n",
    "assert Ref.from_string('$A4') == Ref(3, 0, fixed_row=False, fixed_column=True)\n",
    "assert Ref.from_string('A$4') == Ref(3, 0, fixed_row=True, fixed_column=False)\n",
    "assert Ref.from_string('$A$4') == Ref(3, 0, fixed_row=True, fixed_column=True)\n",
    "assert Ref(10, 10) == Ref(10, 10, fixed_row=False, fixed_column=False)\n",
    "assert Ref.from_string('A4').to_string() == 'A4'"
   ]
  },
  {
   "cell_type": "code",
   "execution_count": null,
   "id": "7a3de1ce",
   "metadata": {},
   "outputs": [],
   "source": []
  }
 ],
 "metadata": {
  "kernelspec": {
   "display_name": "Python 3 (ipykernel)",
   "language": "python",
   "name": "python3"
  },
  "language_info": {
   "codemirror_mode": {
    "name": "ipython",
    "version": 3
   },
   "file_extension": ".py",
   "mimetype": "text/x-python",
   "name": "python",
   "nbconvert_exporter": "python",
   "pygments_lexer": "ipython3",
   "version": "3.9.7"
  }
 },
 "nbformat": 4,
 "nbformat_minor": 5
}
