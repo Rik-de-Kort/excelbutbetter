{
 "cells": [
  {
   "cell_type": "code",
   "execution_count": null,
   "id": "3ac52244",
   "metadata": {},
   "outputs": [],
   "source": [
    "#default_exp util"
   ]
  },
  {
   "cell_type": "markdown",
   "id": "e2ebffae",
   "metadata": {},
   "source": [
    "# Util\n",
    "> Blah blah"
   ]
  },
  {
   "cell_type": "code",
   "execution_count": null,
   "id": "8ddd9696",
   "metadata": {},
   "outputs": [],
   "source": [
    "#export\n",
    "alphabet = 'ABCDEFGHIJKLMNOPQRSTUVWXYZ'\n",
    "def num_to_colname(j):\n",
    "    if j < len(alphabet): return alphabet[j]\n",
    "    prefix = []  # Decimal expansion of j base len(alphabet), least significant digit first\n",
    "    while j >= len(alphabet):\n",
    "        j, idx = divmod(j, len(alphabet))\n",
    "        prefix.append(idx)\n",
    "    prefix.append(j)\n",
    "    return alphabet[prefix[-1]-1] + ''.join(alphabet[i] for i in reversed(prefix[:-1]))\n",
    "\n",
    "def colname_to_num(col):\n",
    "    if len(col) == 1: return alphabet.index(col)\n",
    "    first, *rest = col\n",
    "    indices = [alphabet.index(first) + 1] + [alphabet.index(c) for c in rest]\n",
    "    return sum(k*26**i for i, k in enumerate(reversed(indices)))"
   ]
  },
  {
   "cell_type": "code",
   "execution_count": null,
   "id": "f78b942e",
   "metadata": {},
   "outputs": [],
   "source": [
    "from hypothesis import strategies as st, given\n",
    "\n",
    "@given(st.integers(min_value=0))\n",
    "def test_colname_to_num_roundtrip(j):\n",
    "    assert colname_to_num(num_to_colname(j)) == j"
   ]
  },
  {
   "cell_type": "code",
   "execution_count": null,
   "id": "899a38ac",
   "metadata": {},
   "outputs": [],
   "source": []
  }
 ],
 "metadata": {
  "kernelspec": {
   "display_name": "Python 3 (ipykernel)",
   "language": "python",
   "name": "python3"
  }
 },
 "nbformat": 4,
 "nbformat_minor": 5
}
