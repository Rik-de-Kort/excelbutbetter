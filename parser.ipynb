{
 "cells": [
  {
   "cell_type": "code",
   "execution_count": null,
   "id": "b7e40a3b",
   "metadata": {},
   "outputs": [],
   "source": [
    "#default_exp parser"
   ]
  },
  {
   "cell_type": "markdown",
   "id": "c4c787e7",
   "metadata": {},
   "source": [
    "# Parser_evaluator\n",
    "> Blah blah"
   ]
  },
  {
   "cell_type": "markdown",
   "id": "8d897836",
   "metadata": {},
   "source": [
    "In this notebook we'll develop a formula parser for Excel formulas. The goal is to take a string as input and produce an AST. The goal is to produce a parser that can handle cell references, functions, and the basic operators.\n",
    "\n",
    "Here's the top-level Excel spec:\n",
    "\n",
    "`formula=expression  ;\n",
    "expression=\"(\",  expression,  \")\"  | constant  | prefix-operator,  expression  | expression,  infix-operator,  expression  | expression,  postfix-operator  | cell-reference  |function-call  | name  ;`"
   ]
  },
  {
   "cell_type": "code",
   "execution_count": null,
   "id": "adab4e77",
   "metadata": {},
   "outputs": [],
   "source": [
    "%load_ext autoreload\n",
    "%autoreload 2"
   ]
  },
  {
   "cell_type": "code",
   "execution_count": null,
   "id": "5706db10",
   "metadata": {},
   "outputs": [],
   "source": [
    "#export\n",
    "import ebb.types as t"
   ]
  },
  {
   "cell_type": "code",
   "execution_count": null,
   "id": "ae27d11a",
   "metadata": {},
   "outputs": [],
   "source": [
    "#export\n",
    "def parse(s):\n",
    "    '''Parse s into an AST.'''\n",
    "    assert isinstance(s, str), f'Argument {s} to parse is not a string'\n",
    "    # formula such as a reference\n",
    "    if s.startswith('='): return parse_formula(s[1:].strip())\n",
    "    else: return parse_value(s)\n",
    "    \n",
    "def parse_value(s):\n",
    "    # text\n",
    "    # Todo(Rik): this doesn't work for formulas with tuples in them. Should be not greedy!\n",
    "    if len(s) >= 2 and s.startswith('\"') and s.endswith('\"') and not '\"' in s[1:-1]: return s[1:-1]\n",
    "    # Single char\n",
    "    elif not s in '0123456789' and len(s) == 1: return s\n",
    "    # Bools\n",
    "    elif s.lower() == 'true': return True\n",
    "    elif s.lower() == 'false': return False\n",
    "    # Integers\n",
    "    try: return int(s)\n",
    "    except ValueError: pass\n",
    "    # Floats\n",
    "    try: return float(s)\n",
    "    except ValueError: pass\n",
    "    raise t.ParseError(f'Unable to parse value {s}')"
   ]
  },
  {
   "cell_type": "code",
   "execution_count": null,
   "id": "a8c94781",
   "metadata": {},
   "outputs": [],
   "source": [
    "#export\n",
    "import re\n",
    "\n",
    "def get_parenthesized_indices(s):\n",
    "    '''Get a set of indices in s of characters which occur on or between parentheses'''\n",
    "    paren_indices = set()\n",
    "    n_spans_open = 0\n",
    "    for i, c in enumerate(s):\n",
    "        if c == '(': n_spans_open +=1 \n",
    "        \n",
    "        if n_spans_open > 0: paren_indices.add(i)\n",
    "\n",
    "        if c == ')': n_spans_open -= 1\n",
    "        if n_spans_open < 0: raise t.ParseError(f'Unmatched ) in {s}')\n",
    "        \n",
    "    if n_spans_open > 0: raise t.ParseError(f'Unmatched ( in {s}')\n",
    "    return paren_indices\n",
    "\n",
    "assert get_parenthesized_indices('(2+3)*(4*(7-3))') == set(range(0, 5)) | set(range(6, 15))\n",
    "assert get_parenthesized_indices('fooo (3, 4) bar ((5, (7)))') == set(range(5, 11)) | set(range(16, 26))\n",
    "\n",
    "\n",
    "def parse_formula(s):\n",
    "    '''Turn a formula (after some = sign) into an AST'''\n",
    "    # Base case, somebody put a constant there\n",
    "    try: return parse(s)\n",
    "    except t.ParseError: pass\n",
    "    # Parse ref\n",
    "    try: return t.Ref.from_string(s)\n",
    "    except t.ParseError: pass\n",
    "        \n",
    "    # Matching operators: we do this in __reverse__ precendence order. The intuition for this is that\n",
    "    # during calculation, we roll up the parse tree from the bottom, since that's where the leaves with\n",
    "    # values are. Since the strongest binding operations hould be executed first, it follows that we\n",
    "    # want to push those operators down into the \n",
    "    # Operators are in precedence order, so start by identifying the *last* thing that should match.\n",
    "    # We try to parse the sections identified by the parts indicated by the formula. If that fails, clearly\n",
    "    # we must have misinterpreted the operation (like for -3.0, we'll first try to parse it as\n",
    "    # InfixOp('-', '', '3.0')) but '' doesn't parse (text values we want to have quotes).\n",
    "    indices_to_skip = get_parenthesized_indices(s)\n",
    "    for op, typ in reversed(t.operators.items()):\n",
    "        # Todo(Rik): special-casing for space operator. It's only valid between two references,\n",
    "        # should just be stripped otherwise. Bit of a hassle.\n",
    "        # Todo(Rik): did not think through tuples well enough: this is a case where a higher-priority\n",
    "        # operator can follow a lower priority one, e.g. in '=IF(3<4, 10, 11)'. Maybe this is a precendence\n",
    "        # error, and tuple should be somewhere else in the hierarchy?\n",
    "        # Todo(Rik): similary, tuples might get empty arguments [(1,,1) should evaluate to (1, None, 1)]\n",
    "        # but this is obviously nonsensical for the others.\n",
    "        op_whitespace = r'\\s*'+op+r'\\s*'\n",
    "        if re.search(op_whitespace, s) and typ == t.InfixOp:\n",
    "            for m in re.finditer(op_whitespace, s):  # Sure hope nothing's left associative\n",
    "                if m.start() in indices_to_skip: continue\n",
    "                left, right = s[:m.start()], s[m.end():]\n",
    "                try: return typ(op, parse_formula(left), parse_formula(right))\n",
    "                except t.ParseError: pass\n",
    "        elif re.search(op_whitespace, s) and typ == t.PostfixOp:\n",
    "            # If parsing was correct, should have been the last one\n",
    "            if s.index(op) in indices_to_skip: continue\n",
    "            if s.index(op) != len(s)-1: raise ParseError(f'PostfixOp {op} not in last position in {s}')\n",
    "            try: return typ(op, parse_formula(s[:-1]))\n",
    "            except t.ParseError: pass\n",
    "        elif re.search(op_whitespace, s) and typ == t.PrefixOp:\n",
    "            # Everything following op should be parseable as one expression\n",
    "            if s.index(op) in indices_to_skip: continue\n",
    "            if s.index(op) != 0: raise ParseError(f'PrefixOp {op} not in first position in {s}')\n",
    "            try: return typ(op, parse_formula(s[1:]))\n",
    "            except t.ParseError: pass\n",
    "          \n",
    "    # There are no operators outside of parentheses to parse. that means that we must've arrived\n",
    "    # at an enclosing expression. Either something like '(3+4)', or something like 'SUM(A1:A4)'.\n",
    "    # We use `find` to distinguish between the cases:\n",
    "    if s == '' or s[-1] != ')': raise ParseError(f'{s} does not appear to be a parseable formula.')\n",
    "    i_open = s.find('(')\n",
    "    if i_open == 0: return parse_formula(s[1:-1])\n",
    "    elif i_open > 0:\n",
    "        if s[i_open+1:-1] == '': return Function(name=s[:i_open], args=None)\n",
    "        else: return t.Function(name=s[:i_open], args=parse_formula(s[i_open+1:-1]))\n",
    "        \n",
    "    raise t.ParseError(f'{s} does not appear to be a parseable formula.')"
   ]
  },
  {
   "cell_type": "code",
   "execution_count": null,
   "id": "54e7a47b",
   "metadata": {},
   "outputs": [],
   "source": [
    "# Individual values\n",
    "assert parse('-25') == -25\n",
    "assert parse('10.3') == 10.3\n",
    "assert parse('TRUE') == True\n",
    "assert parse('FALSE') == False\n",
    "assert parse('\\\"foo\\\"') == 'foo'\n",
    "assert parse(\"1.3e-7\") == 1.3e-7\n",
    "assert parse(\"-1.3e6\") == -1.3e6\n",
    "assert parse('c') == 'c'  # We allow single characters\n",
    "assert parse('1e7') == 1e7"
   ]
  },
  {
   "cell_type": "code",
   "execution_count": null,
   "id": "0e493b4d",
   "metadata": {},
   "outputs": [],
   "source": [
    "import pytest\n",
    "# Easy formulas\n",
    "assert parse('=3.0') == 3.0\n",
    "assert parse('=B7') == t.Ref(6, 1, fixed_row=False, fixed_column=False)\n",
    "assert parse('=$B$7') == t.Ref(6, 1, fixed_row=True, fixed_column=True)\n",
    "assert parse('=3*4') == t.InfixOp(op=r'\\*', left=3, right=4)\n",
    "assert parse('=2+3*4') == t.InfixOp(op=r'\\+', left=2, right=t.InfixOp(op=r'\\*', left=3, right=4))\n",
    "assert parse('=3^4') == t.InfixOp(op=r'\\^', left=3, right=4)\n",
    "with pytest.raises(t.ParseError):\n",
    "    parse('=foo-')\n",
    "    \n",
    "# Don't forget spacing issues!\n",
    "assert parse('= 3.0') == 3.0"
   ]
  },
  {
   "cell_type": "code",
   "execution_count": null,
   "id": "af2a766f",
   "metadata": {},
   "outputs": [],
   "source": [
    "assert parse('=(2+3)*4') == t.InfixOp(op=r'\\*', left=t.InfixOp(op=r'\\+', left=2, right=3), right=4)\n",
    "assert parse('=2+3*4') == t.InfixOp(op=r'\\+', left=2, right=t.InfixOp(op=r'\\*', left=3, right=4))\n",
    "assert parse('=SUM(A1:A4)') == t.Function(\n",
    "    name='SUM',\n",
    "    args=t.InfixOp(op=':', left=t.Ref(row=0, column=0), right=t.Ref(row=3, column=0))\n",
    ")\n",
    "assert parse('=PI()') == t.Function(name='PI', args=None)"
   ]
  },
  {
   "cell_type": "code",
   "execution_count": null,
   "id": "0c1f1dce",
   "metadata": {},
   "outputs": [
    {
     "name": "stdout",
     "output_type": "stream",
     "text": [
      "Converted evaluator.ipynb.\n",
      "Converted parser.ipynb.\n",
      "Converted prototype.ipynb.\n",
      "Converted translator.ipynb.\n",
      "Converted types.ipynb.\n",
      "Converted util.ipynb.\n"
     ]
    }
   ],
   "source": [
    "from nbdev.export import notebook2script; notebook2script()"
   ]
  },
  {
   "cell_type": "code",
   "execution_count": null,
   "id": "60c698dc",
   "metadata": {},
   "outputs": [],
   "source": []
  },
  {
   "cell_type": "code",
   "execution_count": null,
   "id": "35157b02",
   "metadata": {},
   "outputs": [],
   "source": []
  }
 ],
 "metadata": {
  "kernelspec": {
   "display_name": "Python 3 (ipykernel)",
   "language": "python",
   "name": "python3"
  }
 },
 "nbformat": 4,
 "nbformat_minor": 5
}
