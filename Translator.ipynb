{
 "cells": [
  {
   "cell_type": "markdown",
   "id": "cc459b3e",
   "metadata": {},
   "source": [
    "Goal of this notebook: given a table-like grid of cells, write an equivalent Python program that can be run on the input data (cells without any dependencies) to generate the output (cells in the last column or cells without any dependencies).\n",
    "\n",
    "First example: one single row."
   ]
  },
  {
   "cell_type": "code",
   "execution_count": 5,
   "id": "3ec97afb",
   "metadata": {},
   "outputs": [],
   "source": [
    "def translate(table):\n",
    "    ...\n",
    "    \n",
    "table = [['3', '4', '=A1+A2']]\n",
    "\n",
    "# Equivalent program:\n",
    "def f_2(x, y):\n",
    "    return x + y  # Translation of 'A1+A2'\n",
    "\n",
    "def row_function(table):\n",
    "    ...\n",
    "\n",
    "def input_columns(table):\n",
    "    ...\n",
    "\n",
    "def output_columns(table):\n",
    "    ...\n",
    "    \n",
    "row_function(table) == f_2  # More like AST of f_2 but w/e\n",
    "input_columns(table) == [0, 1]\n",
    "output_columns(table) == [2]\n",
    "\n",
    "# To evaluate:\n",
    "# for row in table:\n",
    "#    table[output_columns] = row_function(table)(*[row[col] for col in input_columns(table)]))r\n",
    "None"
   ]
  },
  {
   "cell_type": "code",
   "execution_count": null,
   "id": "1eed5328",
   "metadata": {},
   "outputs": [],
   "source": []
  }
 ],
 "metadata": {
  "kernelspec": {
   "display_name": "Python 3 (ipykernel)",
   "language": "python",
   "name": "python3"
  },
  "language_info": {
   "codemirror_mode": {
    "name": "ipython",
    "version": 3
   },
   "file_extension": ".py",
   "mimetype": "text/x-python",
   "name": "python",
   "nbconvert_exporter": "python",
   "pygments_lexer": "ipython3",
   "version": "3.9.4"
  }
 },
 "nbformat": 4,
 "nbformat_minor": 5
}
