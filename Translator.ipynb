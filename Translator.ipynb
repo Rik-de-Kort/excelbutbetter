{
 "cells": [
  {
   "cell_type": "markdown",
   "id": "bfb899c9",
   "metadata": {},
   "source": [
    "Goal of this notebook: given a table-like grid of cells, write an equivalent Python program that can be run on the input data (cells without any dependencies) to generate the output (cells in the last column or cells without any dependencies).\n",
    "\n",
    "First example: one single row."
   ]
  },
  {
   "cell_type": "code",
   "execution_count": null,
   "id": "cbb0b791",
   "metadata": {},
   "outputs": [],
   "source": [
    "def translate(table):\n",
    "    ...\n",
    "    \n",
    "table = [['3', '4', '=A1+B1']]\n",
    "\n",
    "# Equivalent program:\n",
    "def f_2(x, y):\n",
    "    return x + y  # Translation of 'A1+B1'\n",
    "\n",
    "def row_function(table):\n",
    "    ...\n",
    "\n",
    "def input_columns(table):\n",
    "    ...\n",
    "\n",
    "def output_columns(table):\n",
    "    ...\n",
    "    \n",
    "row_function(table) == f_2  # More like AST of f_2 but w/e\n",
    "input_columns(table) == [0, 1]\n",
    "output_columns(table) == [2]\n",
    "\n",
    "# To evaluate:\n",
    "# for row in table:\n",
    "#    table[output_columns] = row_function(table)(*[row[col] for col in input_columns(table)]))\n",
    "None"
   ]
  },
  {
   "cell_type": "code",
   "execution_count": null,
   "id": "c1627919",
   "metadata": {},
   "outputs": [
    {
     "name": "stdout",
     "output_type": "stream",
     "text": [
      "No js module found, not running main scripts.\n"
     ]
    }
   ],
   "source": [
    "from excelbutbetter.parser import parse"
   ]
  },
  {
   "cell_type": "code",
   "execution_count": null,
   "id": "0d2df635",
   "metadata": {},
   "outputs": [
    {
     "data": {
      "text/plain": [
       "InfixOp(op='\\\\+', left=Ref(row=0, column=0, fixed_row=False, fixed_column=False), right=Ref(row=0, column=1, fixed_row=False, fixed_column=False))"
      ]
     },
     "execution_count": null,
     "metadata": {},
     "output_type": "execute_result"
    }
   ],
   "source": [
    "ast = parse('=A1+B1')\n",
    "ast"
   ]
  },
  {
   "cell_type": "markdown",
   "id": "b05de1f8",
   "metadata": {},
   "source": [
    "The expected result here is f(x, y) = x + y. Let's build up code bottom-up."
   ]
  },
  {
   "cell_type": "code",
   "execution_count": null,
   "id": "3f900451",
   "metadata": {},
   "outputs": [],
   "source": [
    "infix_translate_map = {\n",
    "    '\\\\+': lambda x, y: f'{translate(x)} + {translate(y)}'\n",
    "}\n",
    "\n",
    "prefix_translate_map = {}\n",
    "postfix_translate_map = {}"
   ]
  },
  {
   "cell_type": "code",
   "execution_count": null,
   "id": "af033642",
   "metadata": {},
   "outputs": [],
   "source": [
    "def translate(tree, context=None):  # Todo(Rik): str might translate to ref.\n",
    "    if isinstance(tree, (int, float, bool, str)):\n",
    "        return tree\n",
    "    elif isinstance(tree, InfixOp) and tree.op == ':':\n",
    "        # Todo(Rik): handle ranges in formulas\n",
    "        raise NotImplementedError\n",
    "    elif isinstance(tree, InfixOp):\n",
    "        return infix_translate_map[tree.op](translate(tree.left, context), translate(tree.right, context))\n",
    "    elif isinstance(tree, PrefixOp):\n",
    "        return prefix_translate_map[tree.op](translate(tree.arg, context))\n",
    "    elif isinstance(tree, PostfixOp):\n",
    "        return postfix_translate_map[tree.op](translate(tree.arg, context))\n",
    "    elif isinstance(tree, Function):\n",
    "#         if tree.args is None: return function_translate_map[tree.name]()\n",
    "        args = translate(tree.args, context)\n",
    "        if not isinstance(args, tuple): # Gymnastics to handle one-argument functions\n",
    "            args = (args,)\n",
    "        return function_translate_map[tree.name](args)\n",
    "    elif isinstance(tree, Ref):  # Responsiblity of the caller to handle IndexError\n",
    "        return context[tree.row][tree.column]"
   ]
  },
  {
   "cell_type": "code",
   "execution_count": null,
   "id": "27d0f152",
   "metadata": {},
   "outputs": [
    {
     "ename": "NameError",
     "evalue": "name 'InfixOp' is not defined",
     "output_type": "error",
     "traceback": [
      "\u001b[0;31m---------------------------------------------------------------------------\u001b[0m",
      "\u001b[0;31mNameError\u001b[0m                                 Traceback (most recent call last)",
      "\u001b[0;32m/tmp/ipykernel_4535/2707480448.py\u001b[0m in \u001b[0;36m<module>\u001b[0;34m\u001b[0m\n\u001b[0;32m----> 1\u001b[0;31m \u001b[0mtranslate\u001b[0m\u001b[0;34m(\u001b[0m\u001b[0mast\u001b[0m\u001b[0;34m)\u001b[0m\u001b[0;34m\u001b[0m\u001b[0;34m\u001b[0m\u001b[0m\n\u001b[0m",
      "\u001b[0;32m/tmp/ipykernel_4535/2499192681.py\u001b[0m in \u001b[0;36mtranslate\u001b[0;34m(tree, context)\u001b[0m\n\u001b[1;32m      2\u001b[0m     \u001b[0;32mif\u001b[0m \u001b[0misinstance\u001b[0m\u001b[0;34m(\u001b[0m\u001b[0mtree\u001b[0m\u001b[0;34m,\u001b[0m \u001b[0;34m(\u001b[0m\u001b[0mint\u001b[0m\u001b[0;34m,\u001b[0m \u001b[0mfloat\u001b[0m\u001b[0;34m,\u001b[0m \u001b[0mbool\u001b[0m\u001b[0;34m,\u001b[0m \u001b[0mstr\u001b[0m\u001b[0;34m)\u001b[0m\u001b[0;34m)\u001b[0m\u001b[0;34m:\u001b[0m\u001b[0;34m\u001b[0m\u001b[0;34m\u001b[0m\u001b[0m\n\u001b[1;32m      3\u001b[0m         \u001b[0;32mreturn\u001b[0m \u001b[0mtree\u001b[0m\u001b[0;34m\u001b[0m\u001b[0;34m\u001b[0m\u001b[0m\n\u001b[0;32m----> 4\u001b[0;31m     \u001b[0;32melif\u001b[0m \u001b[0misinstance\u001b[0m\u001b[0;34m(\u001b[0m\u001b[0mtree\u001b[0m\u001b[0;34m,\u001b[0m \u001b[0mInfixOp\u001b[0m\u001b[0;34m)\u001b[0m \u001b[0;32mand\u001b[0m \u001b[0mtree\u001b[0m\u001b[0;34m.\u001b[0m\u001b[0mop\u001b[0m \u001b[0;34m==\u001b[0m \u001b[0;34m':'\u001b[0m\u001b[0;34m:\u001b[0m\u001b[0;34m\u001b[0m\u001b[0;34m\u001b[0m\u001b[0m\n\u001b[0m\u001b[1;32m      5\u001b[0m         \u001b[0;31m# Todo(Rik): handle ranges in formulas\u001b[0m\u001b[0;34m\u001b[0m\u001b[0;34m\u001b[0m\u001b[0;34m\u001b[0m\u001b[0m\n\u001b[1;32m      6\u001b[0m         \u001b[0;32mraise\u001b[0m \u001b[0mNotImplementedError\u001b[0m\u001b[0;34m\u001b[0m\u001b[0;34m\u001b[0m\u001b[0m\n",
      "\u001b[0;31mNameError\u001b[0m: name 'InfixOp' is not defined"
     ]
    }
   ],
   "source": [
    "translate(ast)"
   ]
  },
  {
   "cell_type": "code",
   "execution_count": null,
   "id": "cd4caf76",
   "metadata": {},
   "outputs": [],
   "source": []
  }
 ],
 "metadata": {
  "kernelspec": {
   "display_name": "Python 3 (ipykernel)",
   "language": "python",
   "name": "python3"
  }
 },
 "nbformat": 4,
 "nbformat_minor": 5
}
